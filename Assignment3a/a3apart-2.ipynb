{
 "cells": [
  {
   "cell_type": "code",
   "execution_count": 3,
   "metadata": {},
   "outputs": [
    {
     "name": "stderr",
     "output_type": "stream",
     "text": [
      "/home/aban/somu/deep3.10/lib/python3.10/site-packages/tqdm/auto.py:21: TqdmWarning: IProgress not found. Please update jupyter and ipywidgets. See https://ipywidgets.readthedocs.io/en/stable/user_install.html\n",
      "  from .autonotebook import tqdm as notebook_tqdm\n"
     ]
    }
   ],
   "source": [
    "import numpy as np # linear algebra\n",
    "import pandas as pd # data processing, CSV file I/O (e.g. pd.read_csv)\n",
    "import os\n",
    "import torch\n",
    "import torchvision\n",
    "import torchvision.transforms as transforms"
   ]
  },
  {
   "cell_type": "code",
   "execution_count": 4,
   "metadata": {},
   "outputs": [
    {
     "name": "stdout",
     "output_type": "stream",
     "text": [
      "Files already downloaded and verified\n",
      "Files already downloaded and verified\n"
     ]
    }
   ],
   "source": [
    "transform = transforms.Compose([\n",
    "    transforms.RandomCrop(32, padding=4),\n",
    "    transforms.RandomHorizontalFlip(),\n",
    "    transforms.ToTensor(),\n",
    "    transforms.Normalize((0.4914, 0.4822, 0.4465), (0.2023, 0.1994, 0.2010)),\n",
    "])\n",
    "train_set = torchvision.datasets.CIFAR10(root='./data', train=True, download=True, transform=transform)\n",
    "test_set = torchvision.datasets.CIFAR10(root='./data', train=False, download=True, transform=transform)"
   ]
  },
  {
   "cell_type": "code",
   "execution_count": 5,
   "metadata": {},
   "outputs": [
    {
     "data": {
      "text/plain": [
       "(45000, 5000)"
      ]
     },
     "execution_count": 5,
     "metadata": {},
     "output_type": "execute_result"
    }
   ],
   "source": [
    "from torch.utils.data import random_split\n",
    "torch.manual_seed(43)\n",
    "val_size = 5000\n",
    "train_size = len(train_set) - val_size\n",
    "train_set, val_set = random_split(train_set, [train_size, val_size])\n",
    "len(train_set), len(val_set)"
   ]
  },
  {
   "cell_type": "code",
   "execution_count": 6,
   "metadata": {},
   "outputs": [],
   "source": [
    "# Create data loaders for batch processing\n",
    "train_loader = torch.utils.data.DataLoader(train_set, batch_size=64,shuffle=True, num_workers=2)\n",
    "val_loader = torch.utils.data.DataLoader(val_set, batch_size=len(val_set),shuffle=False, num_workers=2)\n",
    "test_loader = torch.utils.data.DataLoader(test_set, batch_size=64,shuffle=False, num_workers=2)"
   ]
  },
  {
   "cell_type": "code",
   "execution_count": 9,
   "metadata": {},
   "outputs": [],
   "source": [
    "class EarlyStopping:\n",
    "    def __init__(self, tolerance=5, min_delta=0):\n",
    "\n",
    "        self.tolerance = tolerance\n",
    "        self.min_delta = min_delta\n",
    "        self.counter = 0\n",
    "        self.early_stop = False\n",
    "\n",
    "    def __call__(self, train_loss, validation_loss):\n",
    "        if (validation_loss - train_loss) > self.min_delta:\n",
    "            self.counter +=1\n",
    "            if self.counter >= self.tolerance:  \n",
    "                self.early_stop = True"
   ]
  },
  {
   "attachments": {},
   "cell_type": "markdown",
   "metadata": {},
   "source": [
    "# PamdaNet3 with tanh and  Adam optimizer"
   ]
  },
  {
   "cell_type": "code",
   "execution_count": 11,
   "metadata": {},
   "outputs": [
    {
     "name": "stdout",
     "output_type": "stream",
     "text": [
      "cuda:1\n",
      "PandaNet(\n",
      "  (conv1): Conv2d(3, 32, kernel_size=(3, 3), stride=(1, 1), padding=(1, 1))\n",
      "  (conv2): Conv2d(32, 64, kernel_size=(3, 3), stride=(1, 1), padding=(1, 1))\n",
      "  (conv3): Conv2d(64, 128, kernel_size=(3, 3), stride=(1, 1), padding=(1, 1))\n",
      "  (conv4): Conv2d(128, 128, kernel_size=(3, 3), stride=(1, 1), padding=(1, 1))\n",
      "  (conv5): Conv2d(128, 256, kernel_size=(3, 3), stride=(1, 1), padding=(1, 1))\n",
      "  (conv6): Conv2d(256, 256, kernel_size=(3, 3), stride=(1, 1), padding=(1, 1))\n",
      "  (pool): MaxPool2d(kernel_size=2, stride=2, padding=0, dilation=1, ceil_mode=False)\n",
      "  (batch_norm1): BatchNorm2d(64, eps=1e-05, momentum=0.1, affine=True, track_running_stats=True)\n",
      "  (batch_norm2): BatchNorm2d(128, eps=1e-05, momentum=0.1, affine=True, track_running_stats=True)\n",
      "  (batch_norm3): BatchNorm2d(256, eps=1e-05, momentum=0.1, affine=True, track_running_stats=True)\n",
      "  (fc1): Linear(in_features=4096, out_features=1024, bias=True)\n",
      "  (fc2): Linear(in_features=1024, out_features=512, bias=True)\n",
      "  (fc3): Linear(in_features=512, out_features=10, bias=True)\n",
      "  (tanh): Tanh()\n",
      ")\n"
     ]
    }
   ],
   "source": [
    "import torch.nn as nn\n",
    "from torchsummary import summary\n",
    "import torch.nn.functional as F\n",
    "\n",
    "# Define the CNN architecture\n",
    "class PandaNet(nn.Module):\n",
    "    def __init__(self):\n",
    "        super().__init__()\n",
    "        \n",
    "        self.conv1 = nn.Conv2d(3, 32, kernel_size=3, stride=1, padding=1) #(depth of each conv2d,noof conv2d)\n",
    "        self.conv2 = nn.Conv2d(32,64, kernel_size=3, stride=1, padding=1)\n",
    "        self.conv3 = nn.Conv2d(64, 128, kernel_size=3, stride=1, padding=1)\n",
    "        self.conv4 = nn.Conv2d(128, 128, kernel_size=3, stride=1, padding=1)\n",
    "        self.conv5 = nn.Conv2d(128,256, kernel_size=3, stride=1, padding=1)\n",
    "        self.conv6 = nn.Conv2d(256, 256, kernel_size=3, stride=1, padding=1)\n",
    "        \n",
    "        self.pool = nn.MaxPool2d(kernel_size=2, stride=2)\n",
    "        \n",
    "        self.batch_norm1 = nn.BatchNorm2d(num_features=64)\n",
    "        self.batch_norm2 = nn.BatchNorm2d(num_features=128)\n",
    "        self.batch_norm3 = nn.BatchNorm2d(num_features=256)\n",
    "        \n",
    "        self.fc1 = nn.Linear(256 * 4 * 4,1024)\n",
    "        self.fc2 = nn.Linear(1024,512)\n",
    "        self.fc3 = nn.Linear(512, 10)\n",
    "        self.tanh = nn.Tanh()\n",
    "\n",
    "    def forward(self, x):\n",
    "        x = self.tanh(self.conv1(x)) \n",
    "        x = self.pool(self.tanh(self.conv2(x)))\n",
    "        x = self.batch_norm1(x)\n",
    "        x = self.tanh(self.conv3(x))\n",
    "        x = self.pool(self.tanh(self.conv4(x)))\n",
    "        x = self.batch_norm2(x)\n",
    "        x = self.tanh(self.conv5(x))\n",
    "        x = self.pool(self.tanh(self.conv6(x)))\n",
    "        x = self.batch_norm3(x)\n",
    "        \n",
    "        x = x.view(-1, 256 * 4 * 4)\n",
    "        x = self.tanh(self.fc1(x))\n",
    "        x = self.tanh(self.fc2(x))\n",
    "        x = self.fc3(x)\n",
    "        return F.log_softmax(x,dim=1)\n",
    "\n",
    "# Create an instance of the CNN\n",
    "device = torch.device(\"cuda:1\" if torch.cuda.is_available() else \"cpu\")\n",
    "PandaNet = PandaNet().to(device)\n",
    "\n",
    "# Define the loss function and optimizer\n",
    "criterion = nn.CrossEntropyLoss()  \n",
    "optimizer = torch.optim.Adam(PandaNet.parameters(), lr=0.001)\n",
    "print(device)\n",
    "print(PandaNet)"
   ]
  },
  {
   "cell_type": "code",
   "execution_count": 12,
   "metadata": {},
   "outputs": [
    {
     "name": "stderr",
     "output_type": "stream",
     "text": [
      "Loading...:   2%|▏         | 1/50 [00:08<07:13,  8.84s/it]"
     ]
    },
    {
     "name": "stdout",
     "output_type": "stream",
     "text": [
      "Epoch 1 | Training Loss 1.42 | Training Accuracy 42.92% | Validation Loss  1.33| Validation Accuracy 51.1%\n"
     ]
    },
    {
     "name": "stderr",
     "output_type": "stream",
     "text": [
      "Loading...:   4%|▍         | 2/50 [00:17<06:52,  8.59s/it]"
     ]
    },
    {
     "name": "stdout",
     "output_type": "stream",
     "text": [
      "Epoch 2 | Training Loss 1.06 | Training Accuracy 57.81% | Validation Loss  1.10| Validation Accuracy 61.36%\n"
     ]
    },
    {
     "name": "stderr",
     "output_type": "stream",
     "text": [
      "Loading...:   6%|▌         | 3/50 [00:25<06:40,  8.52s/it]"
     ]
    },
    {
     "name": "stdout",
     "output_type": "stream",
     "text": [
      "Epoch 3 | Training Loss 0.94 | Training Accuracy 62.82% | Validation Loss  1.02| Validation Accuracy 64.22%\n"
     ]
    },
    {
     "name": "stderr",
     "output_type": "stream",
     "text": [
      "Loading...:   8%|▊         | 4/50 [00:34<06:31,  8.51s/it]"
     ]
    },
    {
     "name": "stdout",
     "output_type": "stream",
     "text": [
      "Epoch 4 | Training Loss 0.88 | Training Accuracy 65.16% | Validation Loss  0.99| Validation Accuracy 64.2%\n"
     ]
    },
    {
     "name": "stderr",
     "output_type": "stream",
     "text": [
      "Loading...:  10%|█         | 5/50 [00:42<06:23,  8.51s/it]"
     ]
    },
    {
     "name": "stdout",
     "output_type": "stream",
     "text": [
      "Epoch 5 | Training Loss 0.84 | Training Accuracy 66.92% | Validation Loss  0.90| Validation Accuracy 68.72%\n"
     ]
    },
    {
     "name": "stderr",
     "output_type": "stream",
     "text": [
      "Loading...:  12%|█▏        | 6/50 [00:51<06:15,  8.53s/it]"
     ]
    },
    {
     "name": "stdout",
     "output_type": "stream",
     "text": [
      "Epoch 6 | Training Loss 0.80 | Training Accuracy 68.37% | Validation Loss  0.91| Validation Accuracy 67.76%\n"
     ]
    },
    {
     "name": "stderr",
     "output_type": "stream",
     "text": [
      "Loading...:  14%|█▍        | 7/50 [00:59<06:06,  8.52s/it]"
     ]
    },
    {
     "name": "stdout",
     "output_type": "stream",
     "text": [
      "Epoch 7 | Training Loss 0.77 | Training Accuracy 69.33% | Validation Loss  0.89| Validation Accuracy 67.94%\n"
     ]
    },
    {
     "name": "stderr",
     "output_type": "stream",
     "text": [
      "Loading...:  16%|█▌        | 8/50 [01:08<05:56,  8.50s/it]"
     ]
    },
    {
     "name": "stdout",
     "output_type": "stream",
     "text": [
      "Epoch 8 | Training Loss 0.77 | Training Accuracy 69.71% | Validation Loss  0.87| Validation Accuracy 69.94%\n"
     ]
    },
    {
     "name": "stderr",
     "output_type": "stream",
     "text": [
      "Loading...:  18%|█▊        | 9/50 [01:16<05:48,  8.50s/it]"
     ]
    },
    {
     "name": "stdout",
     "output_type": "stream",
     "text": [
      "Epoch 9 | Training Loss 0.75 | Training Accuracy 70.59% | Validation Loss  0.89| Validation Accuracy 69.28%\n"
     ]
    },
    {
     "name": "stderr",
     "output_type": "stream",
     "text": [
      "Loading...:  20%|██        | 10/50 [01:25<05:38,  8.46s/it]"
     ]
    },
    {
     "name": "stdout",
     "output_type": "stream",
     "text": [
      "Epoch 10 | Training Loss 0.74 | Training Accuracy 70.90% | Validation Loss  0.85| Validation Accuracy 69.98%\n"
     ]
    },
    {
     "name": "stderr",
     "output_type": "stream",
     "text": [
      "Loading...:  22%|██▏       | 11/50 [01:33<05:29,  8.46s/it]"
     ]
    },
    {
     "name": "stdout",
     "output_type": "stream",
     "text": [
      "Epoch 11 | Training Loss 0.72 | Training Accuracy 71.96% | Validation Loss  0.87| Validation Accuracy 70.06%\n"
     ]
    },
    {
     "name": "stderr",
     "output_type": "stream",
     "text": [
      "Loading...:  24%|██▍       | 12/50 [01:41<05:20,  8.45s/it]"
     ]
    },
    {
     "name": "stdout",
     "output_type": "stream",
     "text": [
      "Epoch 12 | Training Loss 0.72 | Training Accuracy 71.72% | Validation Loss  0.86| Validation Accuracy 68.9%\n"
     ]
    },
    {
     "name": "stderr",
     "output_type": "stream",
     "text": [
      "Loading...:  26%|██▌       | 13/50 [01:50<05:12,  8.46s/it]"
     ]
    },
    {
     "name": "stdout",
     "output_type": "stream",
     "text": [
      "Epoch 13 | Training Loss 0.72 | Training Accuracy 71.91% | Validation Loss  0.85| Validation Accuracy 70.48%\n"
     ]
    },
    {
     "name": "stderr",
     "output_type": "stream",
     "text": [
      "Loading...:  28%|██▊       | 14/50 [01:58<05:04,  8.46s/it]"
     ]
    },
    {
     "name": "stdout",
     "output_type": "stream",
     "text": [
      "Epoch 14 | Training Loss 0.71 | Training Accuracy 72.05% | Validation Loss  0.86| Validation Accuracy 69.66%\n"
     ]
    },
    {
     "name": "stderr",
     "output_type": "stream",
     "text": [
      "Loading...:  30%|███       | 15/50 [02:07<04:56,  8.46s/it]"
     ]
    },
    {
     "name": "stdout",
     "output_type": "stream",
     "text": [
      "Epoch 15 | Training Loss 0.72 | Training Accuracy 71.82% | Validation Loss  0.83| Validation Accuracy 70.98%\n"
     ]
    },
    {
     "name": "stderr",
     "output_type": "stream",
     "text": [
      "Loading...:  32%|███▏      | 16/50 [02:15<04:46,  8.43s/it]"
     ]
    },
    {
     "name": "stdout",
     "output_type": "stream",
     "text": [
      "Epoch 16 | Training Loss 0.71 | Training Accuracy 72.03% | Validation Loss  0.83| Validation Accuracy 71.28%\n"
     ]
    },
    {
     "name": "stderr",
     "output_type": "stream",
     "text": [
      "Loading...:  34%|███▍      | 17/50 [02:24<04:39,  8.47s/it]"
     ]
    },
    {
     "name": "stdout",
     "output_type": "stream",
     "text": [
      "Epoch 17 | Training Loss 0.70 | Training Accuracy 72.40% | Validation Loss  0.81| Validation Accuracy 71.42%\n"
     ]
    },
    {
     "name": "stderr",
     "output_type": "stream",
     "text": [
      "Loading...:  36%|███▌      | 18/50 [02:32<04:30,  8.45s/it]"
     ]
    },
    {
     "name": "stdout",
     "output_type": "stream",
     "text": [
      "Epoch 18 | Training Loss 0.71 | Training Accuracy 72.06% | Validation Loss  0.88| Validation Accuracy 69.34%\n"
     ]
    },
    {
     "name": "stderr",
     "output_type": "stream",
     "text": [
      "Loading...:  38%|███▊      | 19/50 [02:41<04:21,  8.45s/it]"
     ]
    },
    {
     "name": "stdout",
     "output_type": "stream",
     "text": [
      "Epoch 19 | Training Loss 0.71 | Training Accuracy 72.00% | Validation Loss  0.83| Validation Accuracy 71.06%\n"
     ]
    },
    {
     "name": "stderr",
     "output_type": "stream",
     "text": [
      "Loading...:  40%|████      | 20/50 [02:49<04:13,  8.46s/it]"
     ]
    },
    {
     "name": "stdout",
     "output_type": "stream",
     "text": [
      "Epoch 20 | Training Loss 0.70 | Training Accuracy 72.39% | Validation Loss  0.80| Validation Accuracy 72.32%\n"
     ]
    },
    {
     "name": "stderr",
     "output_type": "stream",
     "text": [
      "Loading...:  42%|████▏     | 21/50 [02:58<04:05,  8.46s/it]"
     ]
    },
    {
     "name": "stdout",
     "output_type": "stream",
     "text": [
      "Epoch 21 | Training Loss 0.70 | Training Accuracy 72.73% | Validation Loss  0.83| Validation Accuracy 70.1%\n"
     ]
    },
    {
     "name": "stderr",
     "output_type": "stream",
     "text": [
      "Loading...:  44%|████▍     | 22/50 [03:06<03:57,  8.47s/it]"
     ]
    },
    {
     "name": "stdout",
     "output_type": "stream",
     "text": [
      "Epoch 22 | Training Loss 0.70 | Training Accuracy 72.62% | Validation Loss  0.82| Validation Accuracy 71.5%\n"
     ]
    },
    {
     "name": "stderr",
     "output_type": "stream",
     "text": [
      "Loading...:  46%|████▌     | 23/50 [03:15<03:48,  8.48s/it]"
     ]
    },
    {
     "name": "stdout",
     "output_type": "stream",
     "text": [
      "Epoch 23 | Training Loss 0.70 | Training Accuracy 72.44% | Validation Loss  0.88| Validation Accuracy 69.62%\n"
     ]
    },
    {
     "name": "stderr",
     "output_type": "stream",
     "text": [
      "Loading...:  48%|████▊     | 24/50 [03:23<03:39,  8.45s/it]"
     ]
    },
    {
     "name": "stdout",
     "output_type": "stream",
     "text": [
      "Epoch 24 | Training Loss 0.70 | Training Accuracy 72.65% | Validation Loss  0.86| Validation Accuracy 70.7%\n"
     ]
    },
    {
     "name": "stderr",
     "output_type": "stream",
     "text": [
      "Loading...:  50%|█████     | 25/50 [03:31<03:30,  8.40s/it]"
     ]
    },
    {
     "name": "stdout",
     "output_type": "stream",
     "text": [
      "Epoch 25 | Training Loss 0.70 | Training Accuracy 72.51% | Validation Loss  0.84| Validation Accuracy 70.72%\n"
     ]
    },
    {
     "name": "stderr",
     "output_type": "stream",
     "text": [
      "Loading...:  52%|█████▏    | 26/50 [03:40<03:22,  8.44s/it]"
     ]
    },
    {
     "name": "stdout",
     "output_type": "stream",
     "text": [
      "Epoch 26 | Training Loss 0.70 | Training Accuracy 72.67% | Validation Loss  0.81| Validation Accuracy 71.4%\n"
     ]
    },
    {
     "name": "stderr",
     "output_type": "stream",
     "text": [
      "Loading...:  54%|█████▍    | 27/50 [03:48<03:14,  8.46s/it]"
     ]
    },
    {
     "name": "stdout",
     "output_type": "stream",
     "text": [
      "Epoch 27 | Training Loss 0.71 | Training Accuracy 72.49% | Validation Loss  0.86| Validation Accuracy 70.22%\n"
     ]
    },
    {
     "name": "stderr",
     "output_type": "stream",
     "text": [
      "Loading...:  56%|█████▌    | 28/50 [03:57<03:06,  8.49s/it]"
     ]
    },
    {
     "name": "stdout",
     "output_type": "stream",
     "text": [
      "Epoch 28 | Training Loss 0.70 | Training Accuracy 72.83% | Validation Loss  0.81| Validation Accuracy 71.48%\n"
     ]
    },
    {
     "name": "stderr",
     "output_type": "stream",
     "text": [
      "Loading...:  58%|█████▊    | 29/50 [04:05<02:58,  8.49s/it]"
     ]
    },
    {
     "name": "stdout",
     "output_type": "stream",
     "text": [
      "Epoch 29 | Training Loss 0.70 | Training Accuracy 72.74% | Validation Loss  0.84| Validation Accuracy 69.88%\n"
     ]
    },
    {
     "name": "stderr",
     "output_type": "stream",
     "text": [
      "Loading...:  60%|██████    | 30/50 [04:14<02:49,  8.48s/it]"
     ]
    },
    {
     "name": "stdout",
     "output_type": "stream",
     "text": [
      "Epoch 30 | Training Loss 0.71 | Training Accuracy 72.43% | Validation Loss  0.81| Validation Accuracy 71.44%\n"
     ]
    },
    {
     "name": "stderr",
     "output_type": "stream",
     "text": [
      "Loading...:  62%|██████▏   | 31/50 [04:22<02:41,  8.50s/it]"
     ]
    },
    {
     "name": "stdout",
     "output_type": "stream",
     "text": [
      "Epoch 31 | Training Loss 0.70 | Training Accuracy 72.45% | Validation Loss  0.81| Validation Accuracy 71.58%\n"
     ]
    },
    {
     "name": "stderr",
     "output_type": "stream",
     "text": [
      "Loading...:  64%|██████▍   | 32/50 [04:31<02:33,  8.52s/it]"
     ]
    },
    {
     "name": "stdout",
     "output_type": "stream",
     "text": [
      "Epoch 32 | Training Loss 0.71 | Training Accuracy 72.39% | Validation Loss  0.82| Validation Accuracy 72.12%\n"
     ]
    },
    {
     "name": "stderr",
     "output_type": "stream",
     "text": [
      "Loading...:  66%|██████▌   | 33/50 [04:39<02:23,  8.46s/it]"
     ]
    },
    {
     "name": "stdout",
     "output_type": "stream",
     "text": [
      "Epoch 33 | Training Loss 0.70 | Training Accuracy 72.57% | Validation Loss  0.84| Validation Accuracy 70.54%\n"
     ]
    },
    {
     "name": "stderr",
     "output_type": "stream",
     "text": [
      "Loading...:  68%|██████▊   | 34/50 [04:48<02:15,  8.48s/it]"
     ]
    },
    {
     "name": "stdout",
     "output_type": "stream",
     "text": [
      "Epoch 34 | Training Loss 0.71 | Training Accuracy 72.18% | Validation Loss  0.85| Validation Accuracy 70.02%\n"
     ]
    },
    {
     "name": "stderr",
     "output_type": "stream",
     "text": [
      "Loading...:  70%|███████   | 35/50 [04:56<02:07,  8.51s/it]"
     ]
    },
    {
     "name": "stdout",
     "output_type": "stream",
     "text": [
      "Epoch 35 | Training Loss 0.71 | Training Accuracy 72.28% | Validation Loss  0.82| Validation Accuracy 71.26%\n"
     ]
    },
    {
     "name": "stderr",
     "output_type": "stream",
     "text": [
      "Loading...:  72%|███████▏  | 36/50 [05:05<01:59,  8.51s/it]"
     ]
    },
    {
     "name": "stdout",
     "output_type": "stream",
     "text": [
      "Epoch 36 | Training Loss 0.71 | Training Accuracy 72.27% | Validation Loss  0.81| Validation Accuracy 71.72%\n"
     ]
    },
    {
     "name": "stderr",
     "output_type": "stream",
     "text": [
      "Loading...:  74%|███████▍  | 37/50 [05:13<01:50,  8.53s/it]"
     ]
    },
    {
     "name": "stdout",
     "output_type": "stream",
     "text": [
      "Epoch 37 | Training Loss 0.70 | Training Accuracy 72.61% | Validation Loss  0.82| Validation Accuracy 71.56%\n"
     ]
    },
    {
     "name": "stderr",
     "output_type": "stream",
     "text": [
      "Loading...:  76%|███████▌  | 38/50 [05:22<01:42,  8.51s/it]"
     ]
    },
    {
     "name": "stdout",
     "output_type": "stream",
     "text": [
      "Epoch 38 | Training Loss 0.71 | Training Accuracy 72.75% | Validation Loss  0.83| Validation Accuracy 71.22%\n"
     ]
    },
    {
     "name": "stderr",
     "output_type": "stream",
     "text": [
      "Loading...:  78%|███████▊  | 39/50 [05:30<01:33,  8.52s/it]"
     ]
    },
    {
     "name": "stdout",
     "output_type": "stream",
     "text": [
      "Epoch 39 | Training Loss 0.71 | Training Accuracy 72.26% | Validation Loss  0.85| Validation Accuracy 70.6%\n"
     ]
    },
    {
     "name": "stderr",
     "output_type": "stream",
     "text": [
      "Loading...:  80%|████████  | 40/50 [05:39<01:25,  8.50s/it]"
     ]
    },
    {
     "name": "stdout",
     "output_type": "stream",
     "text": [
      "Epoch 40 | Training Loss 0.72 | Training Accuracy 72.09% | Validation Loss  0.87| Validation Accuracy 70.26%\n"
     ]
    },
    {
     "name": "stderr",
     "output_type": "stream",
     "text": [
      "Loading...:  82%|████████▏ | 41/50 [05:47<01:16,  8.46s/it]"
     ]
    },
    {
     "name": "stdout",
     "output_type": "stream",
     "text": [
      "Epoch 41 | Training Loss 0.72 | Training Accuracy 71.70% | Validation Loss  0.88| Validation Accuracy 69.54%\n"
     ]
    },
    {
     "name": "stderr",
     "output_type": "stream",
     "text": [
      "Loading...:  84%|████████▍ | 42/50 [05:56<01:07,  8.47s/it]"
     ]
    },
    {
     "name": "stdout",
     "output_type": "stream",
     "text": [
      "Epoch 42 | Training Loss 0.73 | Training Accuracy 71.86% | Validation Loss  0.87| Validation Accuracy 69.54%\n"
     ]
    },
    {
     "name": "stderr",
     "output_type": "stream",
     "text": [
      "Loading...:  86%|████████▌ | 43/50 [06:04<00:59,  8.49s/it]"
     ]
    },
    {
     "name": "stdout",
     "output_type": "stream",
     "text": [
      "Epoch 43 | Training Loss 0.73 | Training Accuracy 71.38% | Validation Loss  0.86| Validation Accuracy 69.94%\n"
     ]
    },
    {
     "name": "stderr",
     "output_type": "stream",
     "text": [
      "Loading...:  88%|████████▊ | 44/50 [06:13<00:50,  8.49s/it]"
     ]
    },
    {
     "name": "stdout",
     "output_type": "stream",
     "text": [
      "Epoch 44 | Training Loss 0.74 | Training Accuracy 71.47% | Validation Loss  0.85| Validation Accuracy 70.12%\n"
     ]
    },
    {
     "name": "stderr",
     "output_type": "stream",
     "text": [
      "Loading...:  90%|█████████ | 45/50 [06:21<00:42,  8.45s/it]"
     ]
    },
    {
     "name": "stdout",
     "output_type": "stream",
     "text": [
      "Epoch 45 | Training Loss 0.71 | Training Accuracy 72.14% | Validation Loss  0.86| Validation Accuracy 69.88%\n"
     ]
    },
    {
     "name": "stderr",
     "output_type": "stream",
     "text": [
      "Loading...:  92%|█████████▏| 46/50 [06:30<00:33,  8.47s/it]"
     ]
    },
    {
     "name": "stdout",
     "output_type": "stream",
     "text": [
      "Epoch 46 | Training Loss 0.74 | Training Accuracy 71.02% | Validation Loss  0.89| Validation Accuracy 68.48%\n"
     ]
    },
    {
     "name": "stderr",
     "output_type": "stream",
     "text": [
      "Loading...:  94%|█████████▍| 47/50 [06:38<00:25,  8.47s/it]"
     ]
    },
    {
     "name": "stdout",
     "output_type": "stream",
     "text": [
      "Epoch 47 | Training Loss 0.74 | Training Accuracy 70.88% | Validation Loss  0.91| Validation Accuracy 68.4%\n"
     ]
    },
    {
     "name": "stderr",
     "output_type": "stream",
     "text": [
      "Loading...:  96%|█████████▌| 48/50 [06:47<00:16,  8.48s/it]"
     ]
    },
    {
     "name": "stdout",
     "output_type": "stream",
     "text": [
      "Epoch 48 | Training Loss 0.75 | Training Accuracy 71.06% | Validation Loss  0.86| Validation Accuracy 69.84%\n"
     ]
    },
    {
     "name": "stderr",
     "output_type": "stream",
     "text": [
      "Loading...:  98%|█████████▊| 49/50 [06:55<00:08,  8.45s/it]"
     ]
    },
    {
     "name": "stdout",
     "output_type": "stream",
     "text": [
      "Epoch 49 | Training Loss 0.72 | Training Accuracy 72.23% | Validation Loss  0.89| Validation Accuracy 69.14%\n"
     ]
    },
    {
     "name": "stderr",
     "output_type": "stream",
     "text": [
      "Loading...: 100%|██████████| 50/50 [07:03<00:00,  8.48s/it]"
     ]
    },
    {
     "name": "stdout",
     "output_type": "stream",
     "text": [
      "Epoch 50 | Training Loss 0.73 | Training Accuracy 71.53% | Validation Loss  0.86| Validation Accuracy 69.94%\n",
      "Training time: 423.98664808273315 seconds\n"
     ]
    },
    {
     "name": "stderr",
     "output_type": "stream",
     "text": [
      "\n"
     ]
    }
   ],
   "source": [
    "from tqdm import tqdm\n",
    "import time\n",
    "\n",
    "start_time = time.time()\n",
    "\n",
    "train_loss = []\n",
    "train_accuracy = []\n",
    "validation_loss = []\n",
    "validation_accuracy = []\n",
    "\n",
    "early_stopping = EarlyStopping(tolerance=5, min_delta=10)\n",
    "\n",
    "for epoch in tqdm(range(50),desc=\"Loading...\"):\n",
    "    correct = 0\n",
    "    total = 0\n",
    "    running_loss = 0.0\n",
    "    for images, labels in train_loader:\n",
    "        images = images.to(device)\n",
    "        labels = labels.to(device)\n",
    "\n",
    "        # Forward pass\n",
    "        outputs = PandaNet(images)\n",
    "        loss = criterion(outputs, labels)\n",
    "        \n",
    "        #checking Training Accuracy\n",
    "        with torch.no_grad():\n",
    "            _, predicted = torch.max(outputs.data, 1)\n",
    "            total += labels.size(0)\n",
    "            correct += (predicted == labels).sum().item()\n",
    "            \n",
    "        \n",
    "\n",
    "        # Backward and optimize\n",
    "        optimizer.zero_grad()\n",
    "        loss.backward()\n",
    "        optimizer.step()\n",
    "        \n",
    "        running_loss += loss.item()\n",
    "        \n",
    "    #testing val_acuuracy after each epoch\n",
    "    total_val = 0\n",
    "    correct_val = 0\n",
    "    with torch.no_grad():\n",
    "        for im_val,label_val in val_loader:\n",
    "            im_val, label_val = im_val.to(device), label_val.to(device)\n",
    "            output_val = PandaNet(im_val)\n",
    "            val_loss = criterion(output_val, label_val)\n",
    "            _, predicted_val = torch.max(output_val.data, 1)\n",
    "            total_val += label_val.size(0)\n",
    "            correct_val += (predicted_val == label_val).sum().item()\n",
    "\n",
    "            \n",
    "    print ('Epoch {} | Training Loss {:.2f} | Training Accuracy {:.2f}% | Validation Loss  {:.2f}| Validation Accuracy {}%'.format(epoch+1,running_loss/782,(100 * correct / total),(val_loss.item()),(100*correct_val/total_val)))\n",
    "        \n",
    "    train_loss.append(running_loss/782)\n",
    "    train_accuracy.append(100 * correct / total)\n",
    "    validation_loss.append(val_loss.item())\n",
    "    validation_accuracy.append(100*correct_val/total_val)\n",
    "    \n",
    "    # early stopping\n",
    "    early_stopping(running_loss/782, val_loss.item())\n",
    "    if early_stopping.early_stop:\n",
    "      print('early stop')\n",
    "      break\n",
    "        \n",
    "torch.save(PandaNet.state_dict(), 'PandaNet3.pth')\n",
    "    \n",
    "end_time = time.time()\n",
    "# Calculate the execution time\n",
    "execution_time = end_time - start_time\n",
    "# Print the execution time in seconds\n",
    "print(\"Training time:\", execution_time, \"seconds\")"
   ]
  },
  {
   "cell_type": "code",
   "execution_count": 13,
   "metadata": {},
   "outputs": [
    {
     "data": {
      "image/png": "[encoded data removed]",
      "text/plain": [
       "<Figure size 640x480 with 1 Axes>"
      ]
     },
     "metadata": {},
     "output_type": "display_data"
    }
   ],
   "source": [
    "import matplotlib.pyplot as plt\n",
    "\n",
    "# Define the number of epochs\n",
    "epochs = range(1, len(train_loss) + 1)\n",
    "\n",
    "# Plot the train loss and val loss\n",
    "plt.plot(epochs, train_loss, '-bx', label='Train loss')\n",
    "plt.plot(epochs, validation_loss, '-rx', label='Validation loss')\n",
    "\n",
    "\n",
    "# Set the title and labels for the graph\n",
    "plt.title('Training and validation loss')\n",
    "plt.xlabel('Epochs')\n",
    "plt.ylabel('Loss')\n",
    "\n",
    "# Add a legend to the graph\n",
    "plt.legend()\n",
    "\n",
    "# Show the graph\n",
    "plt.show()"
   ]
  },
  {
   "cell_type": "code",
   "execution_count": 14,
   "metadata": {},
   "outputs": [
    {
     "data": {
      "image/png": "[encoded data removed]",
      "text/plain": [
       "<Figure size 640x480 with 1 Axes>"
      ]
     },
     "metadata": {},
     "output_type": "display_data"
    }
   ],
   "source": [
    "epochs = range(1, len(train_loss) + 1)\n",
    "# Plot the train accuracy and val accuracy\n",
    "plt.plot(epochs, train_accuracy, '-gx', label='Train accuracy')\n",
    "plt.plot(epochs, validation_accuracy, '-yx', label='Validation accuracy')\n",
    "# Set the title and labels for the graph\n",
    "plt.title('Training and validation accuracy')\n",
    "plt.xlabel('Epochs')\n",
    "plt.ylabel('Accuracy')\n",
    "\n",
    "# Add a legend to the graph\n",
    "plt.legend()\n",
    "\n",
    "# Show the graph\n",
    "plt.show()"
   ]
  },
  {
   "cell_type": "code",
   "execution_count": 15,
   "metadata": {},
   "outputs": [
    {
     "name": "stdout",
     "output_type": "stream",
     "text": [
      "Accuracy of the pre-trained CNN on the 10000 test images: 69.69 %\n"
     ]
    }
   ],
   "source": [
    "# Evaluate the CNN on the test set\n",
    "correct = 0\n",
    "total = 0\n",
    "with torch.no_grad():\n",
    "    for data in test_loader:\n",
    "        images, labels = data\n",
    "        images, labels = images.to(device), labels.to(device)\n",
    "        outputs = PandaNet(images)\n",
    "        _, predicted = torch.max(outputs.data, 1)\n",
    "        total += labels.size(0)\n",
    "        correct += (predicted == labels).sum().item()\n",
    "\n",
    "# Print the accuracy\n",
    "print('Accuracy of the pre-trained CNN on the 10000 test images: {} %'.format(100 * correct / total))"
   ]
  },
  {
   "attachments": {},
   "cell_type": "markdown",
   "metadata": {},
   "source": [
    "# PandaNet3 with Sigmoid and RMSprop"
   ]
  },
  {
   "cell_type": "code",
   "execution_count": 17,
   "metadata": {},
   "outputs": [
    {
     "name": "stdout",
     "output_type": "stream",
     "text": [
      "cuda:1\n",
      "PandaNet(\n",
      "  (conv1): Conv2d(3, 32, kernel_size=(3, 3), stride=(1, 1), padding=(1, 1))\n",
      "  (conv2): Conv2d(32, 64, kernel_size=(3, 3), stride=(1, 1), padding=(1, 1))\n",
      "  (conv3): Conv2d(64, 128, kernel_size=(3, 3), stride=(1, 1), padding=(1, 1))\n",
      "  (conv4): Conv2d(128, 128, kernel_size=(3, 3), stride=(1, 1), padding=(1, 1))\n",
      "  (conv5): Conv2d(128, 256, kernel_size=(3, 3), stride=(1, 1), padding=(1, 1))\n",
      "  (conv6): Conv2d(256, 256, kernel_size=(3, 3), stride=(1, 1), padding=(1, 1))\n",
      "  (pool): MaxPool2d(kernel_size=2, stride=2, padding=0, dilation=1, ceil_mode=False)\n",
      "  (batch_norm1): BatchNorm2d(64, eps=1e-05, momentum=0.1, affine=True, track_running_stats=True)\n",
      "  (batch_norm2): BatchNorm2d(128, eps=1e-05, momentum=0.1, affine=True, track_running_stats=True)\n",
      "  (batch_norm3): BatchNorm2d(256, eps=1e-05, momentum=0.1, affine=True, track_running_stats=True)\n",
      "  (fc1): Linear(in_features=4096, out_features=1024, bias=True)\n",
      "  (fc2): Linear(in_features=1024, out_features=512, bias=True)\n",
      "  (fc3): Linear(in_features=512, out_features=10, bias=True)\n",
      "  (sigmoid): Sigmoid()\n",
      ")\n"
     ]
    }
   ],
   "source": [
    "import torch.nn as nn\n",
    "from torchsummary import summary\n",
    "import torch.nn.functional as F\n",
    "\n",
    "# Define the CNN architecture\n",
    "class PandaNet(nn.Module):\n",
    "    def __init__(self):\n",
    "        super().__init__()\n",
    "        \n",
    "        self.conv1 = nn.Conv2d(3, 32, kernel_size=3, stride=1, padding=1) #(depth of each conv2d,noof conv2d)\n",
    "        self.conv2 = nn.Conv2d(32,64, kernel_size=3, stride=1, padding=1)\n",
    "        self.conv3 = nn.Conv2d(64, 128, kernel_size=3, stride=1, padding=1)\n",
    "        self.conv4 = nn.Conv2d(128, 128, kernel_size=3, stride=1, padding=1)\n",
    "        self.conv5 = nn.Conv2d(128,256, kernel_size=3, stride=1, padding=1)\n",
    "        self.conv6 = nn.Conv2d(256, 256, kernel_size=3, stride=1, padding=1)\n",
    "        \n",
    "        self.pool = nn.MaxPool2d(kernel_size=2, stride=2)\n",
    "        \n",
    "        self.batch_norm1 = nn.BatchNorm2d(num_features=64)\n",
    "        self.batch_norm2 = nn.BatchNorm2d(num_features=128)\n",
    "        self.batch_norm3 = nn.BatchNorm2d(num_features=256)\n",
    "        \n",
    "        self.fc1 = nn.Linear(256 * 4 * 4,1024)\n",
    "        self.fc2 = nn.Linear(1024,512)\n",
    "        self.fc3 = nn.Linear(512, 10)\n",
    "        self.sigmoid = nn.Sigmoid()\n",
    "\n",
    "    def forward(self, x):\n",
    "        x = self.sigmoid(self.conv1(x)) \n",
    "        x = self.pool(self.sigmoid(self.conv2(x)))\n",
    "        x = self.batch_norm1(x)\n",
    "        x = self.sigmoid(self.conv3(x))\n",
    "        x = self.pool(self.sigmoid(self.conv4(x)))\n",
    "        x = self.batch_norm2(x)\n",
    "        x = self.sigmoid(self.conv5(x))\n",
    "        x = self.pool(self.sigmoid(self.conv6(x)))\n",
    "        x = self.batch_norm3(x)\n",
    "        \n",
    "        x = x.view(-1, 256 * 4 * 4)\n",
    "        x = self.sigmoid(self.fc1(x))\n",
    "        x = self.sigmoid(self.fc2(x))\n",
    "        x = self.fc3(x)\n",
    "        return F.log_softmax(x,dim=1)\n",
    "\n",
    "# Create an instance of the CNN\n",
    "device = torch.device(\"cuda:1\" if torch.cuda.is_available() else \"cpu\")\n",
    "PandaNet = PandaNet().to(device)\n",
    "\n",
    "# Define the loss function and optimizer\n",
    "criterion = nn.CrossEntropyLoss()  \n",
    "optimizer = torch.optim.RMSprop(PandaNet.parameters(), lr=0.001)\n",
    "print(device)\n",
    "print(PandaNet)"
   ]
  },
  {
   "cell_type": "code",
   "execution_count": 18,
   "metadata": {},
   "outputs": [
    {
     "name": "stderr",
     "output_type": "stream",
     "text": [
      "Loading...:   2%|▏         | 1/50 [00:08<06:39,  8.16s/it]"
     ]
    },
    {
     "name": "stdout",
     "output_type": "stream",
     "text": [
      "Epoch 1 | Training Loss 1.57 | Training Accuracy 35.43% | Validation Loss  1.57| Validation Accuracy 41.24%\n"
     ]
    },
    {
     "name": "stderr",
     "output_type": "stream",
     "text": [
      "Loading...:   4%|▍         | 2/50 [00:16<06:32,  8.18s/it]"
     ]
    },
    {
     "name": "stdout",
     "output_type": "stream",
     "text": [
      "Epoch 2 | Training Loss 1.18 | Training Accuracy 52.60% | Validation Loss  1.30| Validation Accuracy 52.66%\n"
     ]
    },
    {
     "name": "stderr",
     "output_type": "stream",
     "text": [
      "Loading...:   6%|▌         | 3/50 [00:24<06:23,  8.15s/it]"
     ]
    },
    {
     "name": "stdout",
     "output_type": "stream",
     "text": [
      "Epoch 3 | Training Loss 0.97 | Training Accuracy 61.67% | Validation Loss  1.23| Validation Accuracy 56.68%\n"
     ]
    },
    {
     "name": "stderr",
     "output_type": "stream",
     "text": [
      "Loading...:   8%|▊         | 4/50 [00:32<06:14,  8.15s/it]"
     ]
    },
    {
     "name": "stdout",
     "output_type": "stream",
     "text": [
      "Epoch 4 | Training Loss 0.83 | Training Accuracy 67.36% | Validation Loss  1.09| Validation Accuracy 64.12%\n"
     ]
    },
    {
     "name": "stderr",
     "output_type": "stream",
     "text": [
      "Loading...:  10%|█         | 5/50 [00:40<06:06,  8.14s/it]"
     ]
    },
    {
     "name": "stdout",
     "output_type": "stream",
     "text": [
      "Epoch 5 | Training Loss 0.73 | Training Accuracy 71.26% | Validation Loss  0.89| Validation Accuracy 68.9%\n"
     ]
    },
    {
     "name": "stderr",
     "output_type": "stream",
     "text": [
      "Loading...:  12%|█▏        | 6/50 [00:48<05:58,  8.15s/it]"
     ]
    },
    {
     "name": "stdout",
     "output_type": "stream",
     "text": [
      "Epoch 6 | Training Loss 0.66 | Training Accuracy 74.43% | Validation Loss  1.06| Validation Accuracy 65.44%\n"
     ]
    },
    {
     "name": "stderr",
     "output_type": "stream",
     "text": [
      "Loading...:  14%|█▍        | 7/50 [00:57<05:50,  8.16s/it]"
     ]
    },
    {
     "name": "stdout",
     "output_type": "stream",
     "text": [
      "Epoch 7 | Training Loss 0.61 | Training Accuracy 76.44% | Validation Loss  0.73| Validation Accuracy 75.5%\n"
     ]
    },
    {
     "name": "stderr",
     "output_type": "stream",
     "text": [
      "Loading...:  16%|█▌        | 8/50 [01:05<05:42,  8.16s/it]"
     ]
    },
    {
     "name": "stdout",
     "output_type": "stream",
     "text": [
      "Epoch 8 | Training Loss 0.56 | Training Accuracy 78.28% | Validation Loss  0.72| Validation Accuracy 74.58%\n"
     ]
    },
    {
     "name": "stderr",
     "output_type": "stream",
     "text": [
      "Loading...:  18%|█▊        | 9/50 [01:13<05:35,  8.17s/it]"
     ]
    },
    {
     "name": "stdout",
     "output_type": "stream",
     "text": [
      "Epoch 9 | Training Loss 0.52 | Training Accuracy 80.01% | Validation Loss  0.63| Validation Accuracy 78.86%\n"
     ]
    },
    {
     "name": "stderr",
     "output_type": "stream",
     "text": [
      "Loading...:  20%|██        | 10/50 [01:21<05:26,  8.16s/it]"
     ]
    },
    {
     "name": "stdout",
     "output_type": "stream",
     "text": [
      "Epoch 10 | Training Loss 0.49 | Training Accuracy 81.09% | Validation Loss  0.66| Validation Accuracy 76.56%\n"
     ]
    },
    {
     "name": "stderr",
     "output_type": "stream",
     "text": [
      "Loading...:  22%|██▏       | 11/50 [01:29<05:18,  8.16s/it]"
     ]
    },
    {
     "name": "stdout",
     "output_type": "stream",
     "text": [
      "Epoch 11 | Training Loss 0.46 | Training Accuracy 82.11% | Validation Loss  0.60| Validation Accuracy 79.7%\n"
     ]
    },
    {
     "name": "stderr",
     "output_type": "stream",
     "text": [
      "Loading...:  24%|██▍       | 12/50 [01:37<05:10,  8.16s/it]"
     ]
    },
    {
     "name": "stdout",
     "output_type": "stream",
     "text": [
      "Epoch 12 | Training Loss 0.44 | Training Accuracy 83.06% | Validation Loss  0.65| Validation Accuracy 78.86%\n"
     ]
    },
    {
     "name": "stderr",
     "output_type": "stream",
     "text": [
      "Loading...:  26%|██▌       | 13/50 [01:46<05:01,  8.16s/it]"
     ]
    },
    {
     "name": "stdout",
     "output_type": "stream",
     "text": [
      "Epoch 13 | Training Loss 0.41 | Training Accuracy 83.98% | Validation Loss  0.54| Validation Accuracy 81.22%\n"
     ]
    },
    {
     "name": "stderr",
     "output_type": "stream",
     "text": [
      "Loading...:  28%|██▊       | 14/50 [01:54<04:53,  8.15s/it]"
     ]
    },
    {
     "name": "stdout",
     "output_type": "stream",
     "text": [
      "Epoch 14 | Training Loss 0.40 | Training Accuracy 84.59% | Validation Loss  0.70| Validation Accuracy 77.3%\n"
     ]
    },
    {
     "name": "stderr",
     "output_type": "stream",
     "text": [
      "Loading...:  30%|███       | 15/50 [02:02<04:44,  8.14s/it]"
     ]
    },
    {
     "name": "stdout",
     "output_type": "stream",
     "text": [
      "Epoch 15 | Training Loss 0.38 | Training Accuracy 85.17% | Validation Loss  0.57| Validation Accuracy 80.4%\n"
     ]
    },
    {
     "name": "stderr",
     "output_type": "stream",
     "text": [
      "Loading...:  32%|███▏      | 16/50 [02:10<04:38,  8.20s/it]"
     ]
    },
    {
     "name": "stdout",
     "output_type": "stream",
     "text": [
      "Epoch 16 | Training Loss 0.36 | Training Accuracy 85.87% | Validation Loss  0.53| Validation Accuracy 82.4%\n"
     ]
    },
    {
     "name": "stderr",
     "output_type": "stream",
     "text": [
      "Loading...:  34%|███▍      | 17/50 [02:18<04:30,  8.19s/it]"
     ]
    },
    {
     "name": "stdout",
     "output_type": "stream",
     "text": [
      "Epoch 17 | Training Loss 0.35 | Training Accuracy 86.38% | Validation Loss  0.53| Validation Accuracy 82.02%\n"
     ]
    },
    {
     "name": "stderr",
     "output_type": "stream",
     "text": [
      "Loading...:  36%|███▌      | 18/50 [02:27<04:22,  8.19s/it]"
     ]
    },
    {
     "name": "stdout",
     "output_type": "stream",
     "text": [
      "Epoch 18 | Training Loss 0.34 | Training Accuracy 86.68% | Validation Loss  0.57| Validation Accuracy 81.44%\n"
     ]
    },
    {
     "name": "stderr",
     "output_type": "stream",
     "text": [
      "Loading...:  38%|███▊      | 19/50 [02:35<04:13,  8.19s/it]"
     ]
    },
    {
     "name": "stdout",
     "output_type": "stream",
     "text": [
      "Epoch 19 | Training Loss 0.33 | Training Accuracy 87.23% | Validation Loss  0.56| Validation Accuracy 81.78%\n"
     ]
    },
    {
     "name": "stderr",
     "output_type": "stream",
     "text": [
      "Loading...:  40%|████      | 20/50 [02:43<04:05,  8.20s/it]"
     ]
    },
    {
     "name": "stdout",
     "output_type": "stream",
     "text": [
      "Epoch 20 | Training Loss 0.31 | Training Accuracy 87.89% | Validation Loss  0.52| Validation Accuracy 82.7%\n"
     ]
    },
    {
     "name": "stderr",
     "output_type": "stream",
     "text": [
      "Loading...:  42%|████▏     | 21/50 [02:51<03:57,  8.19s/it]"
     ]
    },
    {
     "name": "stdout",
     "output_type": "stream",
     "text": [
      "Epoch 21 | Training Loss 0.31 | Training Accuracy 88.07% | Validation Loss  0.52| Validation Accuracy 82.92%\n"
     ]
    },
    {
     "name": "stderr",
     "output_type": "stream",
     "text": [
      "Loading...:  44%|████▍     | 22/50 [02:59<03:49,  8.19s/it]"
     ]
    },
    {
     "name": "stdout",
     "output_type": "stream",
     "text": [
      "Epoch 22 | Training Loss 0.30 | Training Accuracy 88.59% | Validation Loss  0.51| Validation Accuracy 82.64%\n"
     ]
    },
    {
     "name": "stderr",
     "output_type": "stream",
     "text": [
      "Loading...:  46%|████▌     | 23/50 [03:07<03:40,  8.18s/it]"
     ]
    },
    {
     "name": "stdout",
     "output_type": "stream",
     "text": [
      "Epoch 23 | Training Loss 0.29 | Training Accuracy 88.71% | Validation Loss  0.54| Validation Accuracy 82.66%\n"
     ]
    },
    {
     "name": "stderr",
     "output_type": "stream",
     "text": [
      "Loading...:  48%|████▊     | 24/50 [03:16<03:33,  8.19s/it]"
     ]
    },
    {
     "name": "stdout",
     "output_type": "stream",
     "text": [
      "Epoch 24 | Training Loss 0.28 | Training Accuracy 89.00% | Validation Loss  0.54| Validation Accuracy 82.4%\n"
     ]
    },
    {
     "name": "stderr",
     "output_type": "stream",
     "text": [
      "Loading...:  50%|█████     | 25/50 [03:24<03:24,  8.20s/it]"
     ]
    },
    {
     "name": "stdout",
     "output_type": "stream",
     "text": [
      "Epoch 25 | Training Loss 0.28 | Training Accuracy 89.09% | Validation Loss  0.57| Validation Accuracy 81.88%\n"
     ]
    },
    {
     "name": "stderr",
     "output_type": "stream",
     "text": [
      "Loading...:  52%|█████▏    | 26/50 [03:32<03:17,  8.22s/it]"
     ]
    },
    {
     "name": "stdout",
     "output_type": "stream",
     "text": [
      "Epoch 26 | Training Loss 0.27 | Training Accuracy 89.60% | Validation Loss  0.48| Validation Accuracy 84.38%\n"
     ]
    },
    {
     "name": "stderr",
     "output_type": "stream",
     "text": [
      "Loading...:  54%|█████▍    | 27/50 [03:40<03:08,  8.21s/it]"
     ]
    },
    {
     "name": "stdout",
     "output_type": "stream",
     "text": [
      "Epoch 27 | Training Loss 0.27 | Training Accuracy 89.68% | Validation Loss  0.49| Validation Accuracy 84.1%\n"
     ]
    },
    {
     "name": "stderr",
     "output_type": "stream",
     "text": [
      "Loading...:  56%|█████▌    | 28/50 [03:49<03:01,  8.25s/it]"
     ]
    },
    {
     "name": "stdout",
     "output_type": "stream",
     "text": [
      "Epoch 28 | Training Loss 0.26 | Training Accuracy 89.97% | Validation Loss  0.46| Validation Accuracy 85.22%\n"
     ]
    },
    {
     "name": "stderr",
     "output_type": "stream",
     "text": [
      "Loading...:  58%|█████▊    | 29/50 [03:57<02:52,  8.23s/it]"
     ]
    },
    {
     "name": "stdout",
     "output_type": "stream",
     "text": [
      "Epoch 29 | Training Loss 0.26 | Training Accuracy 90.01% | Validation Loss  0.54| Validation Accuracy 82.98%\n"
     ]
    },
    {
     "name": "stderr",
     "output_type": "stream",
     "text": [
      "Loading...:  60%|██████    | 30/50 [04:05<02:44,  8.25s/it]"
     ]
    },
    {
     "name": "stdout",
     "output_type": "stream",
     "text": [
      "Epoch 30 | Training Loss 0.25 | Training Accuracy 90.24% | Validation Loss  0.53| Validation Accuracy 83.7%\n"
     ]
    },
    {
     "name": "stderr",
     "output_type": "stream",
     "text": [
      "Loading...:  62%|██████▏   | 31/50 [04:13<02:36,  8.24s/it]"
     ]
    },
    {
     "name": "stdout",
     "output_type": "stream",
     "text": [
      "Epoch 31 | Training Loss 0.24 | Training Accuracy 90.54% | Validation Loss  0.49| Validation Accuracy 84.08%\n"
     ]
    },
    {
     "name": "stderr",
     "output_type": "stream",
     "text": [
      "Loading...:  64%|██████▍   | 32/50 [04:22<02:28,  8.23s/it]"
     ]
    },
    {
     "name": "stdout",
     "output_type": "stream",
     "text": [
      "Epoch 32 | Training Loss 0.24 | Training Accuracy 90.61% | Validation Loss  0.58| Validation Accuracy 81.98%\n"
     ]
    },
    {
     "name": "stderr",
     "output_type": "stream",
     "text": [
      "Loading...:  66%|██████▌   | 33/50 [04:30<02:19,  8.21s/it]"
     ]
    },
    {
     "name": "stdout",
     "output_type": "stream",
     "text": [
      "Epoch 33 | Training Loss 0.24 | Training Accuracy 90.70% | Validation Loss  0.49| Validation Accuracy 84.9%\n"
     ]
    },
    {
     "name": "stderr",
     "output_type": "stream",
     "text": [
      "Loading...:  68%|██████▊   | 34/50 [04:38<02:11,  8.20s/it]"
     ]
    },
    {
     "name": "stdout",
     "output_type": "stream",
     "text": [
      "Epoch 34 | Training Loss 0.23 | Training Accuracy 91.02% | Validation Loss  0.53| Validation Accuracy 83.16%\n"
     ]
    },
    {
     "name": "stderr",
     "output_type": "stream",
     "text": [
      "Loading...:  70%|███████   | 35/50 [04:46<02:03,  8.21s/it]"
     ]
    },
    {
     "name": "stdout",
     "output_type": "stream",
     "text": [
      "Epoch 35 | Training Loss 0.23 | Training Accuracy 91.05% | Validation Loss  0.65| Validation Accuracy 81.1%\n"
     ]
    },
    {
     "name": "stderr",
     "output_type": "stream",
     "text": [
      "Loading...:  72%|███████▏  | 36/50 [04:54<01:54,  8.20s/it]"
     ]
    },
    {
     "name": "stdout",
     "output_type": "stream",
     "text": [
      "Epoch 36 | Training Loss 0.23 | Training Accuracy 91.02% | Validation Loss  0.48| Validation Accuracy 84.56%\n"
     ]
    },
    {
     "name": "stderr",
     "output_type": "stream",
     "text": [
      "Loading...:  74%|███████▍  | 37/50 [05:03<01:46,  8.21s/it]"
     ]
    },
    {
     "name": "stdout",
     "output_type": "stream",
     "text": [
      "Epoch 37 | Training Loss 0.22 | Training Accuracy 91.19% | Validation Loss  0.51| Validation Accuracy 84.18%\n"
     ]
    },
    {
     "name": "stderr",
     "output_type": "stream",
     "text": [
      "Loading...:  76%|███████▌  | 38/50 [05:11<01:38,  8.19s/it]"
     ]
    },
    {
     "name": "stdout",
     "output_type": "stream",
     "text": [
      "Epoch 38 | Training Loss 0.22 | Training Accuracy 91.44% | Validation Loss  0.49| Validation Accuracy 85.0%\n"
     ]
    },
    {
     "name": "stderr",
     "output_type": "stream",
     "text": [
      "Loading...:  78%|███████▊  | 39/50 [05:19<01:29,  8.16s/it]"
     ]
    },
    {
     "name": "stdout",
     "output_type": "stream",
     "text": [
      "Epoch 39 | Training Loss 0.22 | Training Accuracy 91.56% | Validation Loss  0.53| Validation Accuracy 83.72%\n"
     ]
    },
    {
     "name": "stderr",
     "output_type": "stream",
     "text": [
      "Loading...:  80%|████████  | 40/50 [05:27<01:21,  8.20s/it]"
     ]
    },
    {
     "name": "stdout",
     "output_type": "stream",
     "text": [
      "Epoch 40 | Training Loss 0.22 | Training Accuracy 91.39% | Validation Loss  0.50| Validation Accuracy 84.58%\n"
     ]
    },
    {
     "name": "stderr",
     "output_type": "stream",
     "text": [
      "Loading...:  82%|████████▏ | 41/50 [05:35<01:13,  8.18s/it]"
     ]
    },
    {
     "name": "stdout",
     "output_type": "stream",
     "text": [
      "Epoch 41 | Training Loss 0.21 | Training Accuracy 91.62% | Validation Loss  0.63| Validation Accuracy 81.42%\n"
     ]
    },
    {
     "name": "stderr",
     "output_type": "stream",
     "text": [
      "Loading...:  84%|████████▍ | 42/50 [05:43<01:05,  8.19s/it]"
     ]
    },
    {
     "name": "stdout",
     "output_type": "stream",
     "text": [
      "Epoch 42 | Training Loss 0.21 | Training Accuracy 92.03% | Validation Loss  0.52| Validation Accuracy 84.72%\n"
     ]
    },
    {
     "name": "stderr",
     "output_type": "stream",
     "text": [
      "Loading...:  86%|████████▌ | 43/50 [05:51<00:57,  8.16s/it]"
     ]
    },
    {
     "name": "stdout",
     "output_type": "stream",
     "text": [
      "Epoch 43 | Training Loss 0.21 | Training Accuracy 91.86% | Validation Loss  0.58| Validation Accuracy 83.64%\n"
     ]
    },
    {
     "name": "stderr",
     "output_type": "stream",
     "text": [
      "Loading...:  88%|████████▊ | 44/50 [06:00<00:49,  8.18s/it]"
     ]
    },
    {
     "name": "stdout",
     "output_type": "stream",
     "text": [
      "Epoch 44 | Training Loss 0.21 | Training Accuracy 91.85% | Validation Loss  0.55| Validation Accuracy 83.68%\n"
     ]
    },
    {
     "name": "stderr",
     "output_type": "stream",
     "text": [
      "Loading...:  90%|█████████ | 45/50 [06:08<00:40,  8.18s/it]"
     ]
    },
    {
     "name": "stdout",
     "output_type": "stream",
     "text": [
      "Epoch 45 | Training Loss 0.20 | Training Accuracy 92.11% | Validation Loss  0.52| Validation Accuracy 84.32%\n"
     ]
    },
    {
     "name": "stderr",
     "output_type": "stream",
     "text": [
      "Loading...:  92%|█████████▏| 46/50 [06:16<00:32,  8.19s/it]"
     ]
    },
    {
     "name": "stdout",
     "output_type": "stream",
     "text": [
      "Epoch 46 | Training Loss 0.20 | Training Accuracy 92.16% | Validation Loss  0.50| Validation Accuracy 85.12%\n"
     ]
    },
    {
     "name": "stderr",
     "output_type": "stream",
     "text": [
      "Loading...:  94%|█████████▍| 47/50 [06:24<00:24,  8.18s/it]"
     ]
    },
    {
     "name": "stdout",
     "output_type": "stream",
     "text": [
      "Epoch 47 | Training Loss 0.20 | Training Accuracy 92.33% | Validation Loss  0.51| Validation Accuracy 84.92%\n"
     ]
    },
    {
     "name": "stderr",
     "output_type": "stream",
     "text": [
      "Loading...:  96%|█████████▌| 48/50 [06:32<00:16,  8.18s/it]"
     ]
    },
    {
     "name": "stdout",
     "output_type": "stream",
     "text": [
      "Epoch 48 | Training Loss 0.20 | Training Accuracy 92.24% | Validation Loss  0.47| Validation Accuracy 85.22%\n"
     ]
    },
    {
     "name": "stderr",
     "output_type": "stream",
     "text": [
      "Loading...:  98%|█████████▊| 49/50 [06:41<00:08,  8.19s/it]"
     ]
    },
    {
     "name": "stdout",
     "output_type": "stream",
     "text": [
      "Epoch 49 | Training Loss 0.19 | Training Accuracy 92.53% | Validation Loss  0.50| Validation Accuracy 85.52%\n"
     ]
    },
    {
     "name": "stderr",
     "output_type": "stream",
     "text": [
      "Loading...: 100%|██████████| 50/50 [06:49<00:00,  8.19s/it]"
     ]
    },
    {
     "name": "stdout",
     "output_type": "stream",
     "text": [
      "Epoch 50 | Training Loss 0.19 | Training Accuracy 92.30% | Validation Loss  0.50| Validation Accuracy 85.02%\n",
      "Training time: 409.4027626514435 seconds\n"
     ]
    },
    {
     "name": "stderr",
     "output_type": "stream",
     "text": [
      "\n"
     ]
    }
   ],
   "source": [
    "from tqdm import tqdm\n",
    "import time\n",
    "\n",
    "start_time = time.time()\n",
    "\n",
    "train_loss = []\n",
    "train_accuracy = []\n",
    "validation_loss = []\n",
    "validation_accuracy = []\n",
    "\n",
    "early_stopping = EarlyStopping(tolerance=5, min_delta=10)\n",
    "\n",
    "for epoch in tqdm(range(50),desc=\"Loading...\"):\n",
    "    correct = 0\n",
    "    total = 0\n",
    "    running_loss = 0.0\n",
    "    for images, labels in train_loader:\n",
    "        images = images.to(device)\n",
    "        labels = labels.to(device)\n",
    "\n",
    "        # Forward pass\n",
    "        outputs = PandaNet(images)\n",
    "        loss = criterion(outputs, labels)\n",
    "        \n",
    "        #checking Training Accuracy\n",
    "        with torch.no_grad():\n",
    "            _, predicted = torch.max(outputs.data, 1)\n",
    "            total += labels.size(0)\n",
    "            correct += (predicted == labels).sum().item()\n",
    "            \n",
    "        \n",
    "\n",
    "        # Backward and optimize\n",
    "        optimizer.zero_grad()\n",
    "        loss.backward()\n",
    "        optimizer.step()\n",
    "        \n",
    "        running_loss += loss.item()\n",
    "        \n",
    "    #testing val_acuuracy after each epoch\n",
    "    total_val = 0\n",
    "    correct_val = 0\n",
    "    with torch.no_grad():\n",
    "        for im_val,label_val in val_loader:\n",
    "            im_val, label_val = im_val.to(device), label_val.to(device)\n",
    "            output_val = PandaNet(im_val)\n",
    "            val_loss = criterion(output_val, label_val)\n",
    "            _, predicted_val = torch.max(output_val.data, 1)\n",
    "            total_val += label_val.size(0)\n",
    "            correct_val += (predicted_val == label_val).sum().item()\n",
    "\n",
    "            \n",
    "    print ('Epoch {} | Training Loss {:.2f} | Training Accuracy {:.2f}% | Validation Loss  {:.2f}| Validation Accuracy {}%'.format(epoch+1,running_loss/782,(100 * correct / total),(val_loss.item()),(100*correct_val/total_val)))\n",
    "        \n",
    "    train_loss.append(running_loss/782)\n",
    "    train_accuracy.append(100 * correct / total)\n",
    "    validation_loss.append(val_loss.item())\n",
    "    validation_accuracy.append(100*correct_val/total_val)\n",
    "    \n",
    "    # early stopping\n",
    "    early_stopping(running_loss/782, val_loss.item())\n",
    "    if early_stopping.early_stop:\n",
    "      print('early stop')\n",
    "      break\n",
    "        \n",
    "torch.save(PandaNet.state_dict(), 'PandaNet3.pth')\n",
    "    \n",
    "end_time = time.time()\n",
    "# Calculate the execution time\n",
    "execution_time = end_time - start_time\n",
    "# Print the execution time in seconds\n",
    "print(\"Training time:\", execution_time, \"seconds\")"
   ]
  },
  {
   "cell_type": "code",
   "execution_count": 19,
   "metadata": {},
   "outputs": [
    {
     "data": {
      "image/png": "[encoded data removed]",
      "text/plain": [
       "<Figure size 640x480 with 1 Axes>"
      ]
     },
     "metadata": {},
     "output_type": "display_data"
    }
   ],
   "source": [
    "import matplotlib.pyplot as plt\n",
    "\n",
    "# Define the number of epochs\n",
    "epochs = range(1, len(train_loss) + 1)\n",
    "\n",
    "# Plot the train loss and val loss\n",
    "plt.plot(epochs, train_loss, '-bx', label='Train loss')\n",
    "plt.plot(epochs, validation_loss, '-rx', label='Validation loss')\n",
    "\n",
    "\n",
    "# Set the title and labels for the graph\n",
    "plt.title('Training and validation loss')\n",
    "plt.xlabel('Epochs')\n",
    "plt.ylabel('Loss')\n",
    "\n",
    "# Add a legend to the graph\n",
    "plt.legend()\n",
    "\n",
    "# Show the graph\n",
    "plt.show()"
   ]
  },
  {
   "cell_type": "code",
   "execution_count": 20,
   "metadata": {},
   "outputs": [
    {
     "data": {
      "image/png": "[encoded data removed]",
      "text/plain": [
       "<Figure size 640x480 with 1 Axes>"
      ]
     },
     "metadata": {},
     "output_type": "display_data"
    }
   ],
   "source": [
    "epochs = range(1, len(train_loss) + 1)\n",
    "# Plot the train accuracy and val accuracy\n",
    "plt.plot(epochs, train_accuracy, '-gx', label='Train accuracy')\n",
    "plt.plot(epochs, validation_accuracy, '-yx', label='Validation accuracy')\n",
    "# Set the title and labels for the graph\n",
    "plt.title('Training and validation accuracy')\n",
    "plt.xlabel('Epochs')\n",
    "plt.ylabel('Accuracy')\n",
    "\n",
    "# Add a legend to the graph\n",
    "plt.legend()\n",
    "\n",
    "# Show the graph\n",
    "plt.show()"
   ]
  },
  {
   "cell_type": "code",
   "execution_count": 21,
   "metadata": {},
   "outputs": [
    {
     "name": "stdout",
     "output_type": "stream",
     "text": [
      "Accuracy of the pre-trained CNN on the 10000 test images: 84.96 %\n"
     ]
    }
   ],
   "source": [
    "# Evaluate the CNN on the test set\n",
    "correct = 0\n",
    "total = 0\n",
    "with torch.no_grad():\n",
    "    for data in test_loader:\n",
    "        images, labels = data\n",
    "        images, labels = images.to(device), labels.to(device)\n",
    "        outputs = PandaNet(images)\n",
    "        _, predicted = torch.max(outputs.data, 1)\n",
    "        total += labels.size(0)\n",
    "        correct += (predicted == labels).sum().item()\n",
    "\n",
    "# Print the accuracy\n",
    "print('Accuracy of the pre-trained CNN on the 10000 test images: {} %'.format(100 * correct / total))"
   ]
  }
 ],
 "metadata": {
  "kernelspec": {
   "display_name": "deep3.10",
   "language": "python",
   "name": "python3"
  },
  "language_info": {
   "codemirror_mode": {
    "name": "ipython",
    "version": 3
   },
   "file_extension": ".py",
   "mimetype": "text/x-python",
   "name": "python",
   "nbconvert_exporter": "python",
   "pygments_lexer": "ipython3",
   "version": "3.10.10"
  },
  "orig_nbformat": 4
 },
 "nbformat": 4,
 "nbformat_minor": 2
}
