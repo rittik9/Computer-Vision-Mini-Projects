{
 "cells": [
  {
   "cell_type": "code",
   "execution_count": 1,
   "metadata": {},
   "outputs": [],
   "source": [
    "import cv2\n",
    "import numpy as np\n",
    "import os"
   ]
  },
  {
   "cell_type": "code",
   "execution_count": 2,
   "metadata": {},
   "outputs": [
    {
     "data": {
      "text/plain": [
       "['Bikes', 'Horses']"
      ]
     },
     "execution_count": 2,
     "metadata": {},
     "output_type": "execute_result"
    }
   ],
   "source": [
    "class_names = os.listdir('Train')\n",
    "class_names"
   ]
  },
  {
   "cell_type": "code",
   "execution_count": 3,
   "metadata": {},
   "outputs": [],
   "source": [
    "images = [] #Get path to all images and save them in a list\n",
    "labels = [] # labels of corresponding images\n",
    "class_id = 0\n",
    "\n",
    "for i in class_names:\n",
    "    dir=os.path.join('train',i)\n",
    "    x = [os.path.join(dir, f) for f in os.listdir(dir)]\n",
    "    images+= x\n",
    "    labels+=[class_id]*len(x)\n",
    "    class_id+=1"
   ]
  },
  {
   "cell_type": "code",
   "execution_count": 4,
   "metadata": {},
   "outputs": [],
   "source": [
    "import random\n",
    "D = []\n",
    "for i in range(len(images)):\n",
    "    D.append([images[i],labels[i]])\n",
    "\n",
    "dataset = D\n",
    "random.shuffle(dataset)\n",
    "train = dataset[:155]\n",
    "test = dataset[155:]"
   ]
  },
  {
   "cell_type": "code",
   "execution_count": 16,
   "metadata": {},
   "outputs": [
    {
     "data": {
      "text/plain": [
       "[['train\\\\Bikes\\\\0078.jpg', 0],\n",
       " ['train\\\\Bikes\\\\0064.jpg', 0],\n",
       " ['train\\\\Horses\\\\horse1  (33).jpg', 1],\n",
       " ['train\\\\Horses\\\\horse51.jpg', 1],\n",
       " ['train\\\\Horses\\\\horse1  (31).jpg', 1],\n",
       " ['train\\\\Horses\\\\horse1  (37).jpg', 1],\n",
       " ['train\\\\Bikes\\\\0058.jpg', 0],\n",
       " ['train\\\\Horses\\\\horse42.jpg', 1],\n",
       " ['train\\\\Bikes\\\\0020.jpg', 0],\n",
       " ['train\\\\Horses\\\\horse44.jpg', 1],\n",
       " ['train\\\\Bikes\\\\0044.jpg', 0],\n",
       " ['train\\\\Horses\\\\horse64.jpg', 1],\n",
       " ['train\\\\Bikes\\\\0042.jpg', 0],\n",
       " ['train\\\\Bikes\\\\0069.jpg', 0],\n",
       " ['train\\\\Horses\\\\horse11.jpg', 1],\n",
       " ['train\\\\Horses\\\\horse71.jpg', 1],\n",
       " ['train\\\\Horses\\\\horse22.jpg', 1],\n",
       " ['train\\\\Bikes\\\\0063.jpg', 0],\n",
       " ['train\\\\Horses\\\\horse23.jpg', 1],\n",
       " ['train\\\\Horses\\\\horse1  (17).jpg', 1],\n",
       " ['train\\\\Horses\\\\horse63.jpg', 1],\n",
       " ['train\\\\Horses\\\\horse1 .jpg', 1],\n",
       " ['train\\\\Horses\\\\horse70.jpg', 1],\n",
       " ['train\\\\Horses\\\\horse7 .jpg', 1],\n",
       " ['train\\\\Horses\\\\horse43.jpg', 1],\n",
       " ['train\\\\Horses\\\\horse2 .jpg', 1],\n",
       " ['train\\\\Bikes\\\\0043.jpg', 0],\n",
       " ['train\\\\Bikes\\\\0018.jpg', 0],\n",
       " ['train\\\\Horses\\\\horse1  (24).jpg', 1],\n",
       " ['train\\\\Bikes\\\\0031.jpg', 0],\n",
       " ['train\\\\Horses\\\\horse26.jpg', 1],\n",
       " ['train\\\\Horses\\\\horse56.jpg', 1],\n",
       " ['train\\\\Horses\\\\horse25.jpg', 1],\n",
       " ['train\\\\Bikes\\\\0003.jpg', 0],\n",
       " ['train\\\\Horses\\\\horse40.jpg', 1],\n",
       " ['train\\\\Horses\\\\horse48.jpg', 1],\n",
       " ['train\\\\Horses\\\\horse78.jpg', 1],\n",
       " ['train\\\\Horses\\\\horse45.jpg', 1],\n",
       " ['train\\\\Horses\\\\horse77.jpg', 1],\n",
       " ['train\\\\Horses\\\\horse72.jpg', 1],\n",
       " ['train\\\\Horses\\\\horse1  (6).jpg', 1],\n",
       " ['train\\\\Bikes\\\\0027.jpg', 0],\n",
       " ['train\\\\Bikes\\\\0007.jpg', 0],\n",
       " ['train\\\\Horses\\\\horse46.jpg', 1],\n",
       " ['train\\\\Horses\\\\horse47.jpg', 1],\n",
       " ['train\\\\Bikes\\\\0051.jpg', 0],\n",
       " ['train\\\\Bikes\\\\0050.jpg', 0],\n",
       " ['train\\\\Bikes\\\\0024.jpg', 0],\n",
       " ['train\\\\Bikes\\\\0045.jpg', 0],\n",
       " ['train\\\\Horses\\\\h2.jpg', 1],\n",
       " ['train\\\\Bikes\\\\0005.jpg', 0],\n",
       " ['train\\\\Bikes\\\\0012.jpg', 0],\n",
       " ['train\\\\Bikes\\\\0019.jpg', 0],\n",
       " ['train\\\\Horses\\\\horse27.jpg', 1],\n",
       " ['train\\\\Bikes\\\\0076.jpg', 0],\n",
       " ['train\\\\Horses\\\\horse53.jpg', 1],\n",
       " ['train\\\\Horses\\\\horse69.jpg', 1],\n",
       " ['train\\\\Horses\\\\horse41.jpg', 1],\n",
       " ['train\\\\Bikes\\\\0054.jpg', 0],\n",
       " ['train\\\\Horses\\\\horse36.jpg', 1],\n",
       " ['train\\\\Horses\\\\horse39.jpg', 1],\n",
       " ['train\\\\Horses\\\\horse1  (5).jpg', 1],\n",
       " ['train\\\\Bikes\\\\0022.jpg', 0],\n",
       " ['train\\\\Bikes\\\\0052.jpg', 0],\n",
       " ['train\\\\Horses\\\\horse60.jpg', 1],\n",
       " ['train\\\\Horses\\\\horse1  (32).jpg', 1],\n",
       " ['train\\\\Bikes\\\\0015.jpg', 0],\n",
       " ['train\\\\Horses\\\\horse80.jpg', 1],\n",
       " ['train\\\\Bikes\\\\0025.jpg', 0],\n",
       " ['train\\\\Horses\\\\horse37.jpg', 1],\n",
       " ['train\\\\Horses\\\\horse55.jpg', 1],\n",
       " ['train\\\\Horses\\\\horse28.jpg', 1],\n",
       " ['train\\\\Bikes\\\\0013.jpg', 0],\n",
       " ['train\\\\Horses\\\\horse15.jpg', 1],\n",
       " ['train\\\\Horses\\\\horse32.jpg', 1],\n",
       " ['train\\\\Bikes\\\\0011.jpg', 0],\n",
       " ['train\\\\Bikes\\\\0040.jpg', 0],\n",
       " ['train\\\\Horses\\\\horse16.jpg', 1],\n",
       " ['train\\\\Horses\\\\horse6 .jpg', 1],\n",
       " ['train\\\\Horses\\\\horse20.jpg', 1],\n",
       " ['train\\\\Horses\\\\horse33.jpg', 1],\n",
       " ['train\\\\Bikes\\\\0009.jpg', 0],\n",
       " ['train\\\\Bikes\\\\0046.jpg', 0],\n",
       " ['train\\\\Bikes\\\\0004.jpg', 0],\n",
       " ['train\\\\Horses\\\\horse58.jpg', 1],\n",
       " ['train\\\\Horses\\\\horse73.jpg', 1],\n",
       " ['train\\\\Bikes\\\\0047.jpg', 0],\n",
       " ['train\\\\Bikes\\\\0074.jpg', 0],\n",
       " ['train\\\\Horses\\\\horse75.jpg', 1],\n",
       " ['train\\\\Bikes\\\\0071.jpg', 0],\n",
       " ['train\\\\Horses\\\\horse31.jpg', 1],\n",
       " ['train\\\\Bikes\\\\0070.jpg', 0],\n",
       " ['train\\\\Bikes\\\\0062.jpg', 0],\n",
       " ['train\\\\Bikes\\\\0053.jpg', 0],\n",
       " ['train\\\\Horses\\\\horse74.jpg', 1],\n",
       " ['train\\\\Horses\\\\horse67.jpg', 1],\n",
       " ['train\\\\Bikes\\\\0036.jpg', 0],\n",
       " ['train\\\\Horses\\\\horse59.jpg', 1],\n",
       " ['train\\\\Bikes\\\\0055.jpg', 0],\n",
       " ['train\\\\Horses\\\\horse61.jpg', 1],\n",
       " ['train\\\\Bikes\\\\0067.jpg', 0],\n",
       " ['train\\\\Bikes\\\\0039.jpg', 0],\n",
       " ['train\\\\Bikes\\\\0080.jpg', 0],\n",
       " ['train\\\\Bikes\\\\0075.jpg', 0],\n",
       " ['train\\\\Horses\\\\horse81.jpg', 1],\n",
       " ['train\\\\Bikes\\\\0060.jpg', 0],\n",
       " ['train\\\\Horses\\\\horse1  (7).jpg', 1],\n",
       " ['train\\\\Bikes\\\\0038.jpg', 0],\n",
       " ['train\\\\Horses\\\\horse57.jpg', 1],\n",
       " ['train\\\\Bikes\\\\0056.jpg', 0],\n",
       " ['train\\\\Horses\\\\horse10.jpg', 1],\n",
       " ['train\\\\Horses\\\\horse65.jpg', 1],\n",
       " ['train\\\\Horses\\\\horse1  (26).jpg', 1],\n",
       " ['train\\\\Bikes\\\\0010.jpg', 0],\n",
       " ['train\\\\Bikes\\\\0029.jpg', 0],\n",
       " ['train\\\\Horses\\\\horse30.jpg', 1],\n",
       " ['train\\\\Horses\\\\horse1  (43).jpg', 1],\n",
       " ['train\\\\Bikes\\\\0030.jpg', 0],\n",
       " ['train\\\\Bikes\\\\0002.jpg', 0],\n",
       " ['train\\\\Bikes\\\\0059.jpg', 0],\n",
       " ['train\\\\Bikes\\\\0014.jpg', 0],\n",
       " ['train\\\\Horses\\\\horse12.jpg', 1],\n",
       " ['train\\\\Bikes\\\\0023.jpg', 0],\n",
       " ['train\\\\Bikes\\\\0079.jpg', 0],\n",
       " ['train\\\\Bikes\\\\0037.jpg', 0],\n",
       " ['train\\\\Bikes\\\\0028.jpg', 0],\n",
       " ['train\\\\Horses\\\\horse66.jpg', 1],\n",
       " ['train\\\\Bikes\\\\0026.jpg', 0],\n",
       " ['train\\\\Bikes\\\\0049.jpg', 0],\n",
       " ['train\\\\Horses\\\\horse18.jpg', 1],\n",
       " ['train\\\\Horses\\\\horse13.jpg', 1],\n",
       " ['train\\\\Bikes\\\\0073.jpg', 0],\n",
       " ['train\\\\Bikes\\\\0057.jpg', 0],\n",
       " ['train\\\\Bikes\\\\0017.jpg', 0],\n",
       " ['train\\\\Horses\\\\horse34.jpg', 1],\n",
       " ['train\\\\Bikes\\\\0016.jpg', 0],\n",
       " ['train\\\\Horses\\\\horse52.jpg', 1],\n",
       " ['train\\\\Horses\\\\horse19.jpg', 1],\n",
       " ['train\\\\Bikes\\\\0008.jpg', 0],\n",
       " ['train\\\\Bikes\\\\0001.jpg', 0],\n",
       " ['train\\\\Horses\\\\horse3 .jpg', 1],\n",
       " ['train\\\\Bikes\\\\0021.jpg', 0],\n",
       " ['train\\\\Horses\\\\horse1  (15).jpg', 1],\n",
       " ['train\\\\Horses\\\\horse5 .jpg', 1],\n",
       " ['train\\\\Horses\\\\horse9 .jpg', 1],\n",
       " ['train\\\\Bikes\\\\0033.jpg', 0],\n",
       " ['train\\\\Horses\\\\horse21.jpg', 1],\n",
       " ['train\\\\Horses\\\\horse8 .jpg', 1],\n",
       " ['train\\\\Bikes\\\\0035.jpg', 0],\n",
       " ['train\\\\Bikes\\\\0034.jpg', 0],\n",
       " ['train\\\\Horses\\\\horse17.jpg', 1],\n",
       " ['train\\\\Horses\\\\horse54.jpg', 1],\n",
       " ['train\\\\Horses\\\\horse62.jpg', 1],\n",
       " ['train\\\\Horses\\\\horse79.jpg', 1],\n",
       " ['train\\\\Bikes\\\\0032.jpg', 0]]"
      ]
     },
     "execution_count": 16,
     "metadata": {},
     "output_type": "execute_result"
    }
   ],
   "source": [
    "train"
   ]
  },
  {
   "cell_type": "code",
   "execution_count": 5,
   "metadata": {},
   "outputs": [
    {
     "name": "stdout",
     "output_type": "stream",
     "text": [
      "Collecting torch\n",
      "  Downloading torch-2.0.0-cp39-cp39-win_amd64.whl (172.3 MB)\n",
      "     -------------------------------------- 172.3/172.3 MB 6.3 MB/s eta 0:00:00\n",
      "Requirement already satisfied: jinja2 in c:\\users\\ritti\\.conda\\envs\\cv\\lib\\site-packages (from torch) (3.1.2)\n",
      "Requirement already satisfied: sympy in c:\\users\\ritti\\.conda\\envs\\cv\\lib\\site-packages (from torch) (1.11.1)\n",
      "Requirement already satisfied: typing-extensions in c:\\users\\ritti\\.conda\\envs\\cv\\lib\\site-packages (from torch) (4.4.0)\n",
      "Requirement already satisfied: filelock in c:\\users\\ritti\\.conda\\envs\\cv\\lib\\site-packages (from torch) (3.9.0)\n",
      "Requirement already satisfied: networkx in c:\\users\\ritti\\.conda\\envs\\cv\\lib\\site-packages (from torch) (2.8.4)\n",
      "Requirement already satisfied: MarkupSafe>=2.0 in c:\\users\\ritti\\.conda\\envs\\cv\\lib\\site-packages (from jinja2->torch) (2.1.1)\n",
      "Requirement already satisfied: mpmath>=0.19 in c:\\users\\ritti\\.conda\\envs\\cv\\lib\\site-packages (from sympy->torch) (1.2.1)\n",
      "Installing collected packages: torch\n",
      "Successfully installed torch-2.0.0\n"
     ]
    }
   ],
   "source": [
    "!pip install torch"
   ]
  },
  {
   "cell_type": "code",
   "execution_count": 6,
   "metadata": {},
   "outputs": [
    {
     "name": "stdout",
     "output_type": "stream",
     "text": [
      "Collecting torch-summary\n",
      "  Downloading torch_summary-1.4.5-py3-none-any.whl (16 kB)\n",
      "Installing collected packages: torch-summary\n",
      "Successfully installed torch-summary-1.4.5\n"
     ]
    }
   ],
   "source": [
    "!pip install torch-summary"
   ]
  },
  {
   "cell_type": "code",
   "execution_count": 8,
   "metadata": {},
   "outputs": [
    {
     "name": "stdout",
     "output_type": "stream",
     "text": [
      "Collecting torchvision\n",
      "  Downloading torchvision-0.15.1-cp39-cp39-win_amd64.whl (1.2 MB)\n",
      "     ---------------------------------------- 1.2/1.2 MB 4.2 MB/s eta 0:00:00\n",
      "Requirement already satisfied: requests in c:\\users\\ritti\\.conda\\envs\\cv\\lib\\site-packages (from torchvision) (2.28.1)\n",
      "Requirement already satisfied: numpy in c:\\users\\ritti\\.conda\\envs\\cv\\lib\\site-packages (from torchvision) (1.21.5)\n",
      "Requirement already satisfied: torch==2.0.0 in c:\\users\\ritti\\.conda\\envs\\cv\\lib\\site-packages (from torchvision) (2.0.0)\n",
      "Requirement already satisfied: pillow!=8.3.*,>=5.3.0 in c:\\users\\ritti\\.conda\\envs\\cv\\lib\\site-packages (from torchvision) (9.3.0)\n",
      "Requirement already satisfied: sympy in c:\\users\\ritti\\.conda\\envs\\cv\\lib\\site-packages (from torch==2.0.0->torchvision) (1.11.1)\n",
      "Requirement already satisfied: typing-extensions in c:\\users\\ritti\\.conda\\envs\\cv\\lib\\site-packages (from torch==2.0.0->torchvision) (4.4.0)\n",
      "Requirement already satisfied: filelock in c:\\users\\ritti\\.conda\\envs\\cv\\lib\\site-packages (from torch==2.0.0->torchvision) (3.9.0)\n",
      "Requirement already satisfied: networkx in c:\\users\\ritti\\.conda\\envs\\cv\\lib\\site-packages (from torch==2.0.0->torchvision) (2.8.4)\n",
      "Requirement already satisfied: jinja2 in c:\\users\\ritti\\.conda\\envs\\cv\\lib\\site-packages (from torch==2.0.0->torchvision) (3.1.2)\n",
      "Requirement already satisfied: charset-normalizer<3,>=2 in c:\\users\\ritti\\.conda\\envs\\cv\\lib\\site-packages (from requests->torchvision) (2.0.4)\n",
      "Requirement already satisfied: urllib3<1.27,>=1.21.1 in c:\\users\\ritti\\.conda\\envs\\cv\\lib\\site-packages (from requests->torchvision) (1.26.13)\n",
      "Requirement already satisfied: idna<4,>=2.5 in c:\\users\\ritti\\.conda\\envs\\cv\\lib\\site-packages (from requests->torchvision) (3.4)\n",
      "Requirement already satisfied: certifi>=2017.4.17 in c:\\users\\ritti\\.conda\\envs\\cv\\lib\\site-packages (from requests->torchvision) (2022.12.7)\n",
      "Requirement already satisfied: MarkupSafe>=2.0 in c:\\users\\ritti\\.conda\\envs\\cv\\lib\\site-packages (from jinja2->torch==2.0.0->torchvision) (2.1.1)\n",
      "Requirement already satisfied: mpmath>=0.19 in c:\\users\\ritti\\.conda\\envs\\cv\\lib\\site-packages (from sympy->torch==2.0.0->torchvision) (1.2.1)\n",
      "Installing collected packages: torchvision\n",
      "Successfully installed torchvision-0.15.1\n"
     ]
    }
   ],
   "source": [
    "!pip install torchvision"
   ]
  },
  {
   "cell_type": "code",
   "execution_count": 9,
   "metadata": {},
   "outputs": [],
   "source": [
    "import torch\n",
    "import torchvision\n",
    "import torchvision.transforms as transforms\n",
    "from torchvision import models\n",
    "from torchsummary import summary"
   ]
  },
  {
   "cell_type": "code",
   "execution_count": 11,
   "metadata": {},
   "outputs": [
    {
     "name": "stdout",
     "output_type": "stream",
     "text": [
      "=================================================================\n",
      "Layer (type:depth-idx)                   Param #\n",
      "=================================================================\n",
      "├─Sequential: 1-1                        --\n",
      "|    └─Conv2d: 2-1                       23,296\n",
      "|    └─ReLU: 2-2                         --\n",
      "|    └─MaxPool2d: 2-3                    --\n",
      "|    └─Conv2d: 2-4                       307,392\n",
      "|    └─ReLU: 2-5                         --\n",
      "|    └─MaxPool2d: 2-6                    --\n",
      "|    └─Conv2d: 2-7                       663,936\n",
      "|    └─ReLU: 2-8                         --\n",
      "|    └─Conv2d: 2-9                       884,992\n",
      "|    └─ReLU: 2-10                        --\n",
      "|    └─Conv2d: 2-11                      590,080\n",
      "|    └─ReLU: 2-12                        --\n",
      "|    └─MaxPool2d: 2-13                   --\n",
      "├─Flatten: 1-2                           --\n",
      "=================================================================\n",
      "Total params: 2,469,696\n",
      "Trainable params: 2,469,696\n",
      "Non-trainable params: 0\n",
      "=================================================================\n"
     ]
    },
    {
     "data": {
      "text/plain": [
       "=================================================================\n",
       "Layer (type:depth-idx)                   Param #\n",
       "=================================================================\n",
       "├─Sequential: 1-1                        --\n",
       "|    └─Conv2d: 2-1                       23,296\n",
       "|    └─ReLU: 2-2                         --\n",
       "|    └─MaxPool2d: 2-3                    --\n",
       "|    └─Conv2d: 2-4                       307,392\n",
       "|    └─ReLU: 2-5                         --\n",
       "|    └─MaxPool2d: 2-6                    --\n",
       "|    └─Conv2d: 2-7                       663,936\n",
       "|    └─ReLU: 2-8                         --\n",
       "|    └─Conv2d: 2-9                       884,992\n",
       "|    └─ReLU: 2-10                        --\n",
       "|    └─Conv2d: 2-11                      590,080\n",
       "|    └─ReLU: 2-12                        --\n",
       "|    └─MaxPool2d: 2-13                   --\n",
       "├─Flatten: 1-2                           --\n",
       "=================================================================\n",
       "Total params: 2,469,696\n",
       "Trainable params: 2,469,696\n",
       "Non-trainable params: 0\n",
       "================================================================="
      ]
     },
     "execution_count": 11,
     "metadata": {},
     "output_type": "execute_result"
    }
   ],
   "source": [
    "features = models.alexnet().features  # get the feature extraction layers\n",
    "device = torch.device(\"cuda:0\" if torch.cuda.is_available() else \"cpu\")\n",
    "flatten = torch.nn.Flatten()# create a flatten layer\n",
    "model = torch.nn.Sequential(features, flatten).to(device)  # create a new model with the flatten layer\n",
    "summary(model)"
   ]
  },
  {
   "cell_type": "code",
   "execution_count": 12,
   "metadata": {},
   "outputs": [],
   "source": []
  },
  {
   "cell_type": "code",
   "execution_count": 40,
   "metadata": {},
   "outputs": [],
   "source": [
    "def extract_features(train):\n",
    "    features = []\n",
    "    labels = []\n",
    "    for i in train:\n",
    "        im = cv2.imread(i[0])\n",
    "        im = im.astype('float32')\n",
    "        im = cv2.resize(im, (224,224))\n",
    "        im = torch.from_numpy(im)\n",
    "        im = im.unsqueeze(0) # adding an extra dimension at index 0 which refers to the batch size =1\n",
    "        im = im.permute(0, 3, 1, 2) # reorder the dimensions of the input tensor from [batch_size, height, width, num_channels] to [batch_size, num_channels, height, width]. \n",
    "        with torch.no_grad():\n",
    "            outputs = model(im)\n",
    "            features.append(outputs.numpy()[0])\n",
    "            labels.append(i[1])\n",
    "    return np.array(features), np.array(labels)"
   ]
  },
  {
   "cell_type": "code",
   "execution_count": 41,
   "metadata": {},
   "outputs": [
    {
     "name": "stdout",
     "output_type": "stream",
     "text": [
      "(155, 9216)\n",
      "(155,)\n",
      "(24, 9216)\n",
      "(24,)\n"
     ]
    }
   ],
   "source": [
    "x_train, y_train = extract_features(train)\n",
    "x_test, y_test = extract_features(test)\n",
    "print(x_train.shape)\n",
    "print(y_train.shape)\n",
    "print(x_test.shape)\n",
    "print(y_test.shape)"
   ]
  },
  {
   "cell_type": "code",
   "execution_count": 44,
   "metadata": {},
   "outputs": [
    {
     "name": "stdout",
     "output_type": "stream",
     "text": [
      "[LibSVM]"
     ]
    },
    {
     "data": {
      "text/html": [
       "<style>#sk-container-id-1 {color: black;background-color: white;}#sk-container-id-1 pre{padding: 0;}#sk-container-id-1 div.sk-toggleable {background-color: white;}#sk-container-id-1 label.sk-toggleable__label {cursor: pointer;display: block;width: 100%;margin-bottom: 0;padding: 0.3em;box-sizing: border-box;text-align: center;}#sk-container-id-1 label.sk-toggleable__label-arrow:before {content: \"▸\";float: left;margin-right: 0.25em;color: #696969;}#sk-container-id-1 label.sk-toggleable__label-arrow:hover:before {color: black;}#sk-container-id-1 div.sk-estimator:hover label.sk-toggleable__label-arrow:before {color: black;}#sk-container-id-1 div.sk-toggleable__content {max-height: 0;max-width: 0;overflow: hidden;text-align: left;background-color: #f0f8ff;}#sk-container-id-1 div.sk-toggleable__content pre {margin: 0.2em;color: black;border-radius: 0.25em;background-color: #f0f8ff;}#sk-container-id-1 input.sk-toggleable__control:checked~div.sk-toggleable__content {max-height: 200px;max-width: 100%;overflow: auto;}#sk-container-id-1 input.sk-toggleable__control:checked~label.sk-toggleable__label-arrow:before {content: \"▾\";}#sk-container-id-1 div.sk-estimator input.sk-toggleable__control:checked~label.sk-toggleable__label {background-color: #d4ebff;}#sk-container-id-1 div.sk-label input.sk-toggleable__control:checked~label.sk-toggleable__label {background-color: #d4ebff;}#sk-container-id-1 input.sk-hidden--visually {border: 0;clip: rect(1px 1px 1px 1px);clip: rect(1px, 1px, 1px, 1px);height: 1px;margin: -1px;overflow: hidden;padding: 0;position: absolute;width: 1px;}#sk-container-id-1 div.sk-estimator {font-family: monospace;background-color: #f0f8ff;border: 1px dotted black;border-radius: 0.25em;box-sizing: border-box;margin-bottom: 0.5em;}#sk-container-id-1 div.sk-estimator:hover {background-color: #d4ebff;}#sk-container-id-1 div.sk-parallel-item::after {content: \"\";width: 100%;border-bottom: 1px solid gray;flex-grow: 1;}#sk-container-id-1 div.sk-label:hover label.sk-toggleable__label {background-color: #d4ebff;}#sk-container-id-1 div.sk-serial::before {content: \"\";position: absolute;border-left: 1px solid gray;box-sizing: border-box;top: 0;bottom: 0;left: 50%;z-index: 0;}#sk-container-id-1 div.sk-serial {display: flex;flex-direction: column;align-items: center;background-color: white;padding-right: 0.2em;padding-left: 0.2em;position: relative;}#sk-container-id-1 div.sk-item {position: relative;z-index: 1;}#sk-container-id-1 div.sk-parallel {display: flex;align-items: stretch;justify-content: center;background-color: white;position: relative;}#sk-container-id-1 div.sk-item::before, #sk-container-id-1 div.sk-parallel-item::before {content: \"\";position: absolute;border-left: 1px solid gray;box-sizing: border-box;top: 0;bottom: 0;left: 50%;z-index: -1;}#sk-container-id-1 div.sk-parallel-item {display: flex;flex-direction: column;z-index: 1;position: relative;background-color: white;}#sk-container-id-1 div.sk-parallel-item:first-child::after {align-self: flex-end;width: 50%;}#sk-container-id-1 div.sk-parallel-item:last-child::after {align-self: flex-start;width: 50%;}#sk-container-id-1 div.sk-parallel-item:only-child::after {width: 0;}#sk-container-id-1 div.sk-dashed-wrapped {border: 1px dashed gray;margin: 0 0.4em 0.5em 0.4em;box-sizing: border-box;padding-bottom: 0.4em;background-color: white;}#sk-container-id-1 div.sk-label label {font-family: monospace;font-weight: bold;display: inline-block;line-height: 1.2em;}#sk-container-id-1 div.sk-label-container {text-align: center;}#sk-container-id-1 div.sk-container {/* jupyter's `normalize.less` sets `[hidden] { display: none; }` but bootstrap.min.css set `[hidden] { display: none !important; }` so we also need the `!important` here to be able to override the default hidden behavior on the sphinx rendered scikit-learn.org. See: https://github.com/scikit-learn/scikit-learn/issues/21755 */display: inline-block !important;position: relative;}#sk-container-id-1 div.sk-text-repr-fallback {display: none;}</style><div id=\"sk-container-id-1\" class=\"sk-top-container\"><div class=\"sk-text-repr-fallback\"><pre>SVC(C=1.8, random_state=42, verbose=2)</pre><b>In a Jupyter environment, please rerun this cell to show the HTML representation or trust the notebook. <br />On GitHub, the HTML representation is unable to render, please try loading this page with nbviewer.org.</b></div><div class=\"sk-container\" hidden><div class=\"sk-item\"><div class=\"sk-estimator sk-toggleable\"><input class=\"sk-toggleable__control sk-hidden--visually\" id=\"sk-estimator-id-1\" type=\"checkbox\" checked><label for=\"sk-estimator-id-1\" class=\"sk-toggleable__label sk-toggleable__label-arrow\">SVC</label><div class=\"sk-toggleable__content\"><pre>SVC(C=1.8, random_state=42, verbose=2)</pre></div></div></div></div></div>"
      ],
      "text/plain": [
       "SVC(C=1.8, random_state=42, verbose=2)"
      ]
     },
     "execution_count": 44,
     "metadata": {},
     "output_type": "execute_result"
    }
   ],
   "source": [
    "from sklearn import svm\n",
    "clf = svm.SVC(C=1.8, random_state=42,verbose =2)\n",
    "clf.fit(x_train, y_train)"
   ]
  },
  {
   "cell_type": "code",
   "execution_count": 45,
   "metadata": {},
   "outputs": [
    {
     "name": "stdout",
     "output_type": "stream",
     "text": [
      "Accuracy: 1.0\n"
     ]
    }
   ],
   "source": [
    "from sklearn.metrics import accuracy_score\n",
    "pred_labels = clf.predict(x_test)\n",
    "accuracy = accuracy_score(y_test, pred_labels)\n",
    "print('Accuracy:', accuracy)"
   ]
  },
  {
   "cell_type": "code",
   "execution_count": 46,
   "metadata": {},
   "outputs": [
    {
     "data": {
      "text/plain": [
       "array([0, 0, 1, 1, 0, 0, 1, 0, 1, 0, 1, 1, 1, 0, 1, 0, 1, 1, 1, 1, 1, 1,\n",
       "       1, 0])"
      ]
     },
     "execution_count": 46,
     "metadata": {},
     "output_type": "execute_result"
    }
   ],
   "source": [
    "pred_labels"
   ]
  },
  {
   "cell_type": "code",
   "execution_count": 47,
   "metadata": {},
   "outputs": [
    {
     "data": {
      "text/plain": [
       "array([0, 0, 1, 1, 0, 0, 1, 0, 1, 0, 1, 1, 1, 0, 1, 0, 1, 1, 1, 1, 1, 1,\n",
       "       1, 0])"
      ]
     },
     "execution_count": 47,
     "metadata": {},
     "output_type": "execute_result"
    }
   ],
   "source": [
    "y_test"
   ]
  },
  {
   "cell_type": "code",
   "execution_count": 48,
   "metadata": {},
   "outputs": [
    {
     "name": "stdout",
     "output_type": "stream",
     "text": [
      "[[ 9  0]\n",
      " [ 0 15]]\n"
     ]
    }
   ],
   "source": [
    "from sklearn.metrics import confusion_matrix\n",
    "cm = confusion_matrix(y_test, pred_labels)\n",
    "print(cm)"
   ]
  },
  {
   "cell_type": "code",
   "execution_count": 49,
   "metadata": {},
   "outputs": [
    {
     "name": "stdout",
     "output_type": "stream",
     "text": [
      "F1 score: 1.00\n"
     ]
    }
   ],
   "source": [
    "from sklearn.metrics import f1_score\n",
    "\n",
    "# y_true is the true labels and y_pred is the predicted labels\n",
    "f1score = f1_score(y_test, pred_labels, average='weighted')\n",
    "\n",
    "print(\"F1 score: {:.2f}\".format(f1score))"
   ]
  }
 ],
 "metadata": {
  "kernelspec": {
   "display_name": "cv",
   "language": "python",
   "name": "python3"
  },
  "language_info": {
   "codemirror_mode": {
    "name": "ipython",
    "version": 3
   },
   "file_extension": ".py",
   "mimetype": "text/x-python",
   "name": "python",
   "nbconvert_exporter": "python",
   "pygments_lexer": "ipython3",
   "version": "3.9.15"
  },
  "orig_nbformat": 4
 },
 "nbformat": 4,
 "nbformat_minor": 2
}
